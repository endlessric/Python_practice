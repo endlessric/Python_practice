{
 "cells": [
  {
   "cell_type": "markdown",
   "metadata": {},
   "source": [
    "# 主題 : 百香果辨識之實際應用"
   ]
  },
  {
   "cell_type": "markdown",
   "metadata": {},
   "source": [
    "* < 組員 >  呂和軒 , 黃永泰"
   ]
  },
  {
   "cell_type": "markdown",
   "metadata": {},
   "source": [
    "## 1.題目簡介 : 能夠辨識百香果,並與設計的GUI界面做結合,得知百香果的影像座標資訊"
   ]
  },
  {
   "cell_type": "markdown",
   "metadata": {},
   "source": [
    "## 2.技術規格"
   ]
  },
  {
   "cell_type": "markdown",
   "metadata": {},
   "source": [
    "* 使用YOLO辨識百香果，採用transfer learning架構\n",
    "* 結合PyQT的介面，能顯示讀取照片的資訊\n",
    "* 使用影像處理,能夠得出百香果位於影像座標系的位置資訊"
   ]
  },
  {
   "cell_type": "markdown",
   "metadata": {},
   "source": [
    "## 3.進度時程表"
   ]
  },
  {
   "cell_type": "markdown",
   "metadata": {},
   "source": [
    "![final_project01](fig_1.png)"
   ]
  },
  {
   "cell_type": "markdown",
   "metadata": {},
   "source": [
    "##### <備註>:僅RGBD相機尚未結合,未來可考慮加入,並實際應用"
   ]
  },
  {
   "cell_type": "markdown",
   "metadata": {},
   "source": [
    "## 4.架構說明"
   ]
  },
  {
   "cell_type": "markdown",
   "metadata": {},
   "source": [
    "#### 使用transfer learning,只訓練後面幾層,前面的參數不訓練"
   ]
  },
  {
   "cell_type": "markdown",
   "metadata": {},
   "source": [
    "![final_project06](fig_6.png)"
   ]
  },
  {
   "cell_type": "markdown",
   "metadata": {},
   "source": [
    "#### 接著,使用影像處理: Gaussian blur , RGB->HSV , Mask , Closing , Opening等技巧,得出百香果的位置資訊"
   ]
  },
  {
   "cell_type": "markdown",
   "metadata": {},
   "source": [
    "## 5.成果展示\n",
    "#### 使用YOLOv3的transfer learning使用800張照片,訓練4個小時 average precision(AP) 可高達97.47%"
   ]
  },
  {
   "cell_type": "markdown",
   "metadata": {},
   "source": [
    "![final_project02](fig_2.png)"
   ]
  },
  {
   "cell_type": "markdown",
   "metadata": {},
   "source": [
    "#### 偵測到百香果後,可經由一連串的影像處理,得知百香果的位置資訊"
   ]
  },
  {
   "cell_type": "markdown",
   "metadata": {},
   "source": [
    "![final_project03](fig_5.png)"
   ]
  },
  {
   "cell_type": "markdown",
   "metadata": {},
   "source": [
    "#### 以YOLOv3為模型的遷移式學習得出的loss 和 validation loss 圖，可知沒有overfitting。"
   ]
  },
  {
   "cell_type": "markdown",
   "metadata": {},
   "source": [
    "![final_project03](fig_3.jpg)"
   ]
  },
  {
   "cell_type": "markdown",
   "metadata": {},
   "source": [
    "![final_project04](fig_4.jpg)"
   ]
  },
  {
   "cell_type": "markdown",
   "metadata": {},
   "source": [
    "## 6.主要程式碼"
   ]
  },
  {
   "cell_type": "markdown",
   "metadata": {},
   "source": [
    "#### Import需要的資料庫"
   ]
  },
  {
   "cell_type": "code",
   "execution_count": 1,
   "metadata": {},
   "outputs": [],
   "source": [
    "import sys\n",
    "\n",
    "from matplotlib.backends.backend_qt5agg import FigureCanvasQTAgg as FigureCanvas\n",
    "from matplotlib.figure import Figure\n",
    "import matplotlib as plt\n",
    "\n",
    "plt.use(\"Qt5Agg\")  # 声明使用QT5\n",
    "\n",
    "from matplotlib.backends.backend_qt5agg import FigureCanvasQTAgg as FigureCanvas\n",
    "import numpy as np\n",
    "\n",
    "\n",
    "from PyQt5.QtWidgets import *\n",
    "from PyQt5.QtCore import QCoreApplication ,Qt, QRect\n",
    "from PyQt5.QtGui import QPixmap, QImage, qRgb, QFont, qRed, qGreen, qBlue, QColor\n",
    "from matplotlib import pyplot as plt\n",
    "from PyQt5 import QtGui,QtCore\n",
    "import cv2\n",
    "import numpy as np\n",
    "import filter_version1"
   ]
  },
  {
   "cell_type": "code",
   "execution_count": 2,
   "metadata": {},
   "outputs": [
    {
     "name": "stderr",
     "output_type": "stream",
     "text": [
      "Using TensorFlow backend.\n"
     ]
    }
   ],
   "source": [
    "import argparse\n",
    "from yolo import YOLO, detect_video\n",
    "from PIL import Image\n",
    "%matplotlib inline"
   ]
  },
  {
   "cell_type": "code",
   "execution_count": null,
   "metadata": {},
   "outputs": [],
   "source": [
    "from __future__ import division\n",
    "import cv2\n",
    "#to show the image\n",
    "from matplotlib import pyplot as plt\n",
    "import numpy as np\n",
    "from math import cos, sin"
   ]
  },
  {
   "cell_type": "markdown",
   "metadata": {},
   "source": [
    "#### 使用class的架構\n",
    "#### 主要程式: \n",
    "* loadImg: 讀入照片\n",
    "* YOLO_call: 呼叫yoloV3的架構\n",
    "* displayEachObject:影像後處理\n",
    "* displayEachObject_EachRow: 擺放到QT界面\n",
    "    "
   ]
  },
  {
   "cell_type": "code",
   "execution_count": null,
   "metadata": {},
   "outputs": [],
   "source": [
    "class App(QMainWindow):\n",
    "    def __init__(self):\n",
    "        super().__init__()\n",
    "        #初始化視窗大小\n",
    "        self.title = \"Yolo demo\"\n",
    "        self.left = 100\n",
    "        self.top = 20\n",
    "        self.width = 1200\n",
    "        self.height = 1000\n",
    "        \n",
    "        self.initUI()\n",
    "        self.center()#置中\n",
    "        self.show()\n",
    "\n",
    "    def center(self):  #將畫面移至中間\n",
    "        screen = QDesktopWidget().screenGeometry()  \n",
    "        size = self.geometry()        \n",
    "        self.move((screen.width() - size.width()) / 2,  (screen.height() - size.height()) / 2) \n",
    "        \n",
    "    def initUI(self):\n",
    "        #設定視窗\n",
    "        self.setWindowTitle(self.title)\n",
    "        self.setGeometry(self.left, self.top, self.width, self.height)\n",
    "        self.barLength = 255\n",
    "        #Load\n",
    "        #新建按鈕\n",
    "        button_load = QPushButton(\"&Load\", self)\n",
    "        #按鈕的提示訊息\n",
    "        button_load.setToolTip(\"Load the image\")\n",
    "        #按鈕座標\n",
    "        button_load.move(1100, 10)\n",
    "        #按鈕觸發事件\n",
    "        button_load.clicked.connect(self.loadImg)\n",
    "        #離開\n",
    "        button_quit=QPushButton(\"&離開\",self)\n",
    "        button_quit.move(1100,90)\n",
    "        button_quit.clicked.connect(self.Cancel)\n",
    "        #說明文件\n",
    "        self.message_button=QPushButton(self)\n",
    "        self.message_button.setText(\"&說明文件\")\n",
    "        self.message_button.clicked.connect(self.msg)\n",
    "        self.message_button.move(1100,170)        \n",
    "        \n",
    "    def msg(self):\n",
    "        messagetext=QMessageBox.information(self,\"說明\",\"load:可以選取要開的圖檔\\n 離開:為退出\\n \")\n",
    "        print(messagetext)\n",
    "        \n",
    "    def Cancel(self):\n",
    "        self.close()\n",
    "        \n",
    "    def loadImg(self):\n",
    "        #choose the file path\n",
    "        fileName1, filetype = QFileDialog.getOpenFileName(self,\n",
    "                                    \"選取文件\",\n",
    "                                    \"./\",\n",
    "                                    \"All Files (*)\")\n",
    "        \n",
    "        self.Image = Image.open(fileName1)\n",
    "        self.ImgForCut = self.Image.copy()\n",
    "        self.YOLO_call()\n",
    "        \n",
    "    def cv_imread(self,filePath):\n",
    "        cv_img=cv2.imdecode(np.fromfile(filePath,dtype=np.uint8),-1)\n",
    "        return cv_img\n",
    "    \n",
    "    def YOLO_call(self):     #call the YOLO algo. \n",
    "        y = YOLO()\n",
    "        self.pilImage, self.label_dict = y.detect_image(self.Image)\n",
    "        self.cvImage = np.array(self.pilImage)\n",
    "        height, width, byteValue = self.cvImage.shape\n",
    "        byteValue = byteValue * width\n",
    "        self.mQImage = QImage(self.cvImage, width, height, byteValue, QImage.Format_RGB888)\n",
    "        self.paint()  #大圖\n",
    "        print(self.label_dict)\n",
    "        self.displayEachObject() #小圖\n",
    "        \n",
    "    def displayEachObject(self): #display each object in scroll area        \n",
    "        img = np.array(self.ImgForCut)      \n",
    "        object_list = list(self.label_dict.keys())\n",
    "        self.Object_scrollArea = QScrollArea(self, frameWidth=0, frameShape=QScrollArea.NoFrame)\n",
    "        self.Object_scrollArea.setGeometry(850,50,400,900)\n",
    "        self.Object_scrollArea.setWidgetResizable(True)       \n",
    "        #scroll area layout\n",
    "        self.grid = QGridLayout(self)     \n",
    "        self.grid.setSpacing(5)  #region width\n",
    "        self.vlayout=QVBoxLayout()\n",
    "        \n",
    "        for i,obj in enumerate(object_list):\n",
    "\n",
    "            prob, pt1, pt2 = self.label_dict[obj]\n",
    "            cutImg= self.cut(img, pt1, pt2)\n",
    "            cutImg_cv2 = cv2.cvtColor(np.array(cutImg), cv2.COLOR_RGB2BGR)\n",
    "            #-------------------------------------------------------------------#\n",
    "            image,area,center=filter_version1.input_image(cutImg_cv2)\n",
    "            #-------------------------------------------------------------------#\n",
    "            self.displayEachObject_EachRow(i, obj, image, prob, pt1, pt2,area,center)\n",
    "        self.setLayout(self.grid)   \n",
    "        #add to scroll area\n",
    "        self.grid.setAlignment(Qt.AlignCenter)        \n",
    "        self.Object_scrollArea.setLayout(self.grid)\n",
    "        self.Object_scrollArea.show()\n",
    "        \n",
    "    def displayEachObject_EachRow(self, i, name, cutImg,prob, pt1, pt2,area,center): \n",
    "        \n",
    "        #img column\n",
    "        label_img = QLabel()\n",
    "        \n",
    "        self.cvImage = np.array(cutImg)   #切下來的小圖\n",
    "        height, width, byteValue = self.cvImage.shape\n",
    "        byteValue = byteValue * width\n",
    "        mCutImage = QImage(self.cvImage, width, height, byteValue, QImage.Format_RGB888)  #圖片表示\n",
    "        \n",
    "        pixmap = QPixmap.fromImage(mCutImage)\n",
    "        pixmap_cutImg = QPixmap(pixmap)\n",
    "        label_img.setPixmap(pixmap_cutImg)\n",
    "        label_img.setAlignment(Qt.AlignCenter)\n",
    "        label_img.setScaledContents(True) # keep the origin image size\n",
    "        \n",
    "        #--區域 大 水平 一張大圖 三表單 三個list\n",
    "        hlayout_location =  QHBoxLayout()\n",
    "        #--區域 小 垂直 三個表單\n",
    "        vlayout_form =  QVBoxLayout()\n",
    "        #--區域 小 垂直 三個list\n",
    "        vlayout_list =  QVBoxLayout()\n",
    "        #--區域 小 圖\n",
    "        vlayout_img=QVBoxLayout()       \n",
    "        #item name column\n",
    "        #--區域 小 垂直 三個表單\n",
    "        title_name = QLabel('Name')\n",
    "        title_prob = QLabel('Area')\n",
    "        title_center = QLabel('Center')\n",
    "        title_region = QLabel('Region')\n",
    "        vlayout_form.addWidget(title_name)\n",
    "        vlayout_form.addWidget(title_center)\n",
    "        vlayout_form.addWidget(title_prob)\n",
    "        vlayout_form.addWidget(title_region)\n",
    "        #value column\n",
    "        #--區域 小 垂直 三個list\n",
    "        value_name = QLabel(name)\n",
    "        value_prob = QLabel(str(area))\n",
    "        value_region = QLabel(str(pt1)+','+str(pt2))\n",
    "        value_center=QLabel(str(center))\n",
    "        vlayout_list.addWidget(value_name )\n",
    "        vlayout_list.addWidget(value_center )\n",
    "        vlayout_list.addWidget(value_prob)\n",
    "        vlayout_list.addWidget(value_region)\n",
    "        \n",
    "        vlayout_img.addWidget(label_img)\n",
    "        vwg_form =  QWidget()\n",
    "        vwg_list =  QWidget()\n",
    "        hwg_big  =  QWidget()\n",
    "        vwg_img  =  QWidget()\n",
    "        vwg_form.setLayout(vlayout_form)\n",
    "        vwg_list.setLayout(vlayout_list)\n",
    "        vwg_img.setLayout(vlayout_img)\n",
    "        hlayout_location.addWidget(vwg_img)\n",
    "        hlayout_location.addWidget(vwg_form)\n",
    "        hlayout_location.addWidget(vwg_list)\n",
    "        hwg_big.setLayout(hlayout_location)\n",
    "        self.grid.addWidget(hwg_big)\n",
    "        \n",
    "    def cut(self, img, pt1, pt2):\n",
    "        x_right=pt1[1]-100\n",
    "        x_left=pt2[1]+100\n",
    "        y_up=pt1[0]-100\n",
    "        y_down=pt2[0]+100\n",
    "        cutImg = img[x_right:x_left, y_up:y_down,:]\n",
    "        return cutImg\n",
    "    \n",
    "    def paint(self): #draw the img\n",
    "        self.label_imageDisplay = QLabel()\n",
    "        pixmap01 = QPixmap.fromImage(self.mQImage)\n",
    "        pixmap_image = QPixmap(pixmap01)\n",
    "        height, width, byteValue = self.cvImage.shape\n",
    "        scale = height/width\n",
    "        self.label_imageDisplay.setPixmap(pixmap_image)\n",
    "        self.label_imageDisplay.setAlignment(Qt.AlignCenter)\n",
    "        self.label_imageDisplay.setScaledContents(True)\n",
    "        self.label_imageDisplay.setGeometry(50, 50, 700, 700*scale)\n",
    "        self.label_imageDisplay.setMinimumSize(1,1)\n",
    "\n",
    "        # label img area\n",
    "        scroll = QScrollArea(self, frameWidth=0, frameShape=QScrollArea.NoFrame)\n",
    "        scroll.setGeometry(50,50,800,600)\n",
    "        scroll.setWidgetResizable(False)\n",
    "\n",
    "        scroll.setWidget(self.label_imageDisplay)\n",
    "        scroll.show()\n",
    "        \n",
    "\n",
    "    def keyPressEvent(self, QKeyEvent): #save the img\n",
    "        super(MyDialog, self).keyPressEvent(QKeyEvent)\n",
    "        if 's' == QKeyEvent.text():\n",
    "            cv2.imwrite(\"result.png\", self.cvImage)\n",
    "        else:\n",
    "            app.exit(1)\n",
    "    \n",
    "if __name__ == '__main__':\n",
    "    app = QCoreApplication.instance() #加入if,讓程式進入主程式\n",
    "    if app is None:\n",
    "        app = QApplication(sys.argv)\n",
    "    #新建APP\n",
    "    ex = App()\n",
    "    sys.exit(app.exec_())"
   ]
  },
  {
   "cell_type": "markdown",
   "metadata": {},
   "source": [
    "## 5.參考資料 :"
   ]
  },
  {
   "cell_type": "markdown",
   "metadata": {},
   "source": [
    "* https://github.com/qqwweee/keras-yolo3?fbclid=IwAR2zP4Ax0N0TuLttPHSozLxsLlTzWLVk7PHYIcDMZKAWba-neaBiZdN_BEc\n",
    "* https://github.com/qqwweee/keras-yolo3/issues/191?fbclid=IwAR05suTMvtVjhKXriTuKa5Cnk8FjFbo6bbwztnROJNVy_or4CHSgRU4xOS0"
   ]
  }
 ],
 "metadata": {
  "kernelspec": {
   "display_name": "Python 3",
   "language": "python",
   "name": "python3"
  },
  "language_info": {
   "codemirror_mode": {
    "name": "ipython",
    "version": 3
   },
   "file_extension": ".py",
   "mimetype": "text/x-python",
   "name": "python",
   "nbconvert_exporter": "python",
   "pygments_lexer": "ipython3",
   "version": "3.6.8"
  }
 },
 "nbformat": 4,
 "nbformat_minor": 2
}
