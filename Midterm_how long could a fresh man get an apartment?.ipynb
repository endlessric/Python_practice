{
 "cells": [
  {
   "cell_type": "markdown",
   "metadata": {},
   "source": [
    "# 計算年輕人想要購買公寓,需要存錢多久才付的起房屋的頭期款(大約總房價的30%)"
   ]
  },
  {
   "cell_type": "code",
   "execution_count": 1,
   "metadata": {},
   "outputs": [],
   "source": [
    "%matplotlib inline\n",
    "import numpy as np\n",
    "import matplotlib.pyplot as plt\n",
    "import pandas as pd\n",
    "from sklearn.linear_model import LinearRegression \n",
    "from ipywidgets import interact"
   ]
  },
  {
   "cell_type": "markdown",
   "metadata": {},
   "source": [
    "### 使用者輸入資訊\n",
    "### 包括以下三項 \"每個月的薪水\" , \"想要買房的地方\" , \"每月從薪水存下多少比例\""
   ]
  },
  {
   "cell_type": "markdown",
   "metadata": {},
   "source": [
    "* 薪水"
   ]
  },
  {
   "cell_type": "code",
   "execution_count": 2,
   "metadata": {},
   "outputs": [
    {
     "name": "stdout",
     "output_type": "stream",
     "text": [
      "Input your monthly salary\n",
      ">> 50000\n"
     ]
    }
   ],
   "source": [
    "def f(x):\n",
    "    return x\n",
    "print('Input your monthly salary')\n",
    "salary = input('>> ')"
   ]
  },
  {
   "cell_type": "markdown",
   "metadata": {},
   "source": [
    "* 想要居住的地方"
   ]
  },
  {
   "cell_type": "code",
   "execution_count": 3,
   "metadata": {
    "scrolled": true
   },
   "outputs": [
    {
     "data": {
      "application/vnd.jupyter.widget-view+json": {
       "model_id": "f8cb6ebd6d8f47018b81493d0ab25c93",
       "version_major": 2,
       "version_minor": 0
      },
      "text/plain": [
       "interactive(children=(Dropdown(description='y', options=('台北', '新北', '桃園', '基隆', '宜蘭'), value='台北'), Output())…"
      ]
     },
     "metadata": {},
     "output_type": "display_data"
    }
   ],
   "source": [
    "def f(y):\n",
    "    return y\n",
    "place_input= interact(f, y=['台北', '新北', '桃園','基隆','宜蘭'])"
   ]
  },
  {
   "cell_type": "markdown",
   "metadata": {},
   "source": [
    "* 預期撥出多少比例的薪水來當房屋頭期款的資金"
   ]
  },
  {
   "cell_type": "code",
   "execution_count": 5,
   "metadata": {},
   "outputs": [
    {
     "data": {
      "application/vnd.jupyter.widget-view+json": {
       "model_id": "c711062fda8b4bf298dad903e66fe08f",
       "version_major": 2,
       "version_minor": 0
      },
      "text/plain": [
       "interactive(children=(FloatSlider(value=0.30000000000000004, description='z', max=0.5, min=0.1, step=0.01), Ou…"
      ]
     },
     "metadata": {},
     "output_type": "display_data"
    }
   ],
   "source": [
    "def f(z):\n",
    "    return z\n",
    "pay_rate = interact(f, z=(0.1, 0.50,0.01));"
   ]
  },
  {
   "cell_type": "markdown",
   "metadata": {},
   "source": [
    "參考資料:[內政部不動產資訊平台](https://pip.moi.gov.tw/V2/E/SCRE0301.aspx)"
   ]
  },
  {
   "cell_type": "code",
   "execution_count": 6,
   "metadata": {},
   "outputs": [],
   "source": [
    "df0_Taipei = pd.read_excel('/home/endlessric/Python_work/Taipei.xls')\n",
    "df0_New_Taipei = pd.read_excel('/home/endlessric/Python_work/New_Taipei.xls')\n",
    "df0_Keelung = pd.read_excel('/home/endlessric/Python_work/Keelung.xls')\n",
    "df0_Taoyuan = pd.read_excel('/home/endlessric/Python_work/Taoyuan.xls')\n",
    "df0_Yilan = pd.read_excel('/home/endlessric/Python_work/Yilan.xls')"
   ]
  },
  {
   "cell_type": "markdown",
   "metadata": {},
   "source": [
    "# 整理資料格式"
   ]
  },
  {
   "cell_type": "code",
   "execution_count": 7,
   "metadata": {
    "scrolled": true
   },
   "outputs": [],
   "source": [
    "col_name = [\"時間\",\"買賣契約價格平均總價\"]\n",
    "df0_Taipei.columns = col_name\n",
    "df0_New_Taipei.columns = col_name\n",
    "df0_Keelung.columns = col_name\n",
    "df0_Taoyuan.columns = col_name\n",
    "df0_Yilan.columns = col_name"
   ]
  },
  {
   "cell_type": "code",
   "execution_count": 8,
   "metadata": {},
   "outputs": [],
   "source": [
    "df_Taipei = df0_Taipei.loc[3:]\n",
    "df_New_Taipei = df0_New_Taipei.loc[3:]\n",
    "df_Keelung = df0_Keelung.loc[3:]\n",
    "df_Taoyuan = df0_Taoyuan.loc[3:]\n",
    "df_Yilan = df0_Yilan.loc[3:]"
   ]
  },
  {
   "cell_type": "markdown",
   "metadata": {},
   "source": [
    "# 整理過後的資料,在Data frame上呈現"
   ]
  },
  {
   "cell_type": "code",
   "execution_count": 9,
   "metadata": {
    "scrolled": true
   },
   "outputs": [
    {
     "data": {
      "text/html": [
       "<div>\n",
       "<style scoped>\n",
       "    .dataframe tbody tr th:only-of-type {\n",
       "        vertical-align: middle;\n",
       "    }\n",
       "\n",
       "    .dataframe tbody tr th {\n",
       "        vertical-align: top;\n",
       "    }\n",
       "\n",
       "    .dataframe thead th {\n",
       "        text-align: right;\n",
       "    }\n",
       "</style>\n",
       "<table border=\"1\" class=\"dataframe\">\n",
       "  <thead>\n",
       "    <tr style=\"text-align: right;\">\n",
       "      <th></th>\n",
       "      <th>時間</th>\n",
       "      <th>買賣契約價格平均總價</th>\n",
       "    </tr>\n",
       "  </thead>\n",
       "  <tbody>\n",
       "    <tr>\n",
       "      <th>3</th>\n",
       "      <td>107Q4</td>\n",
       "      <td>1403.3</td>\n",
       "    </tr>\n",
       "    <tr>\n",
       "      <th>4</th>\n",
       "      <td>107Q3</td>\n",
       "      <td>1442.5</td>\n",
       "    </tr>\n",
       "    <tr>\n",
       "      <th>5</th>\n",
       "      <td>107Q2</td>\n",
       "      <td>1424.1</td>\n",
       "    </tr>\n",
       "    <tr>\n",
       "      <th>6</th>\n",
       "      <td>107Q1</td>\n",
       "      <td>1441.2</td>\n",
       "    </tr>\n",
       "    <tr>\n",
       "      <th>7</th>\n",
       "      <td>106Q4</td>\n",
       "      <td>1452.7</td>\n",
       "    </tr>\n",
       "  </tbody>\n",
       "</table>\n",
       "</div>"
      ],
      "text/plain": [
       "      時間 買賣契約價格平均總價\n",
       "3  107Q4     1403.3\n",
       "4  107Q3     1442.5\n",
       "5  107Q2     1424.1\n",
       "6  107Q1     1441.2\n",
       "7  106Q4     1452.7"
      ]
     },
     "execution_count": 9,
     "metadata": {},
     "output_type": "execute_result"
    }
   ],
   "source": [
    "df_Taipei.head()"
   ]
  },
  {
   "cell_type": "markdown",
   "metadata": {},
   "source": [
    "# 發現較早之前得數據差異值比較大(100年初),因此只擷取近20筆資料\n"
   ]
  },
  {
   "cell_type": "code",
   "execution_count": 10,
   "metadata": {},
   "outputs": [],
   "source": [
    "df_Taipei = df0_Taipei.loc[3:22]\n",
    "df_New_Taipei = df0_New_Taipei.loc[3:22]\n",
    "df_Taoyuan = df0_Taoyuan.loc[3:22]\n",
    "df_Keelung = df0_Keelung.loc[3:22]\n",
    "df_Yilan = df0_Yilan.loc[3:22]"
   ]
  },
  {
   "cell_type": "code",
   "execution_count": 11,
   "metadata": {
    "scrolled": false
   },
   "outputs": [
    {
     "data": {
      "text/plain": [
       "<matplotlib.axes._subplots.AxesSubplot at 0x7f9b96ddaf98>"
      ]
     },
     "execution_count": 11,
     "metadata": {},
     "output_type": "execute_result"
    },
    {
     "data": {
      "image/png": "[encoded data removed]",
      "text/plain": [
       "<Figure size 432x288 with 1 Axes>"
      ]
     },
     "metadata": {},
     "output_type": "display_data"
    }
   ],
   "source": [
    "df_Taipei.買賣契約價格平均總價.plot()"
   ]
  },
  {
   "cell_type": "markdown",
   "metadata": {},
   "source": [
    "# 使用linear regression去fit出一組model,並用Model去預測下一季的房價"
   ]
  },
  {
   "cell_type": "code",
   "execution_count": 12,
   "metadata": {},
   "outputs": [],
   "source": [
    "def get_model(df_name,place):\n",
    "    model = LinearRegression()\n",
    "    y = df_name[[\"買賣契約價格平均總價\"]]\n",
    "    #Date\n",
    "    Date = 21-np.arange(1,21)\n",
    "    Date = Date.reshape(len(Date), 1)\n",
    "    \n",
    "    model.fit(Date,y)\n",
    "    Y_pred = model.predict(Date)\n",
    "    value = model.predict(len(Date)+1)\n",
    "    plt.scatter(Date,y)\n",
    "    plt.plot(Date,Y_pred,'r',linewidth=3)\n",
    "    plt.scatter(len(Date)+1,value,c = 'green')\n",
    "    return value"
   ]
  },
  {
   "cell_type": "code",
   "execution_count": 13,
   "metadata": {},
   "outputs": [
    {
     "name": "stdout",
     "output_type": "stream",
     "text": [
      "桃園 目前房價 =  373 萬\n",
      "頭期款付房價的30% = 111.89999999999999 萬\n"
     ]
    },
    {
     "data": {
      "image/png": "[encoded data removed]",
      "text/plain": [
       "<Figure size 432x288 with 1 Axes>"
      ]
     },
     "metadata": {},
     "output_type": "display_data"
    }
   ],
   "source": [
    "place = place_input.widget.result\n",
    "if place == '台北':\n",
    "    price = get_model(df_Taipei,\"Taipei\")\n",
    "elif place == '新北':\n",
    "    price = get_model(df_New_Taipei,\"New_Taipei\")\n",
    "elif place == '桃園':\n",
    "    price = get_model(df_Taoyuan,\"Taoyuan\")\n",
    "elif place == '基隆':\n",
    "    price = get_model(df_Keelung,\"Keelung\")\n",
    "elif place == '宜蘭':\n",
    "    price = get_model(df_Yilan,\"Yilan\")\n",
    "print(place,\"目前房價 = \",int(price),\"萬\")\n",
    "print(\"頭期款付房價的30% =\",int(price)*0.3,\"萬\")\n",
    "\n"
   ]
  },
  {
   "cell_type": "code",
   "execution_count": 14,
   "metadata": {},
   "outputs": [],
   "source": [
    "year_to_buy = int(price)*1000*0.3 / int(salary) * 14 * float(pay_rate.widget.result)\n",
    "year_to_buy = round(year_to_buy,3)"
   ]
  },
  {
   "cell_type": "code",
   "execution_count": 15,
   "metadata": {},
   "outputs": [
    {
     "name": "stdout",
     "output_type": "stream",
     "text": [
      "---------我的夢想清單---------\n",
      "每月賺 50000\n",
      "每月存下 30.0 % 的薪水比例\n",
      "想要在 桃園 購房\n",
      "----------------------------\n",
      "總共花 9.4 年即可支付房屋頭期款\n"
     ]
    }
   ],
   "source": [
    "print(\"---------我的夢想清單---------\")\n",
    "print(\"每月賺\",salary)\n",
    "print(\"每月存下\",pay_rate.widget.result*100,\"%\" , \"的薪水比例\")\n",
    "print(\"想要在\",place,\"購房\")\n",
    "print(\"----------------------------\")\n",
    "print(\"總共花\",year_to_buy,\"年即可支付房屋頭期款\")"
   ]
  }
 ],
 "metadata": {
  "kernelspec": {
   "display_name": "Python 3",
   "language": "python",
   "name": "python3"
  },
  "language_info": {
   "codemirror_mode": {
    "name": "ipython",
    "version": 3
   },
   "file_extension": ".py",
   "mimetype": "text/x-python",
   "name": "python",
   "nbconvert_exporter": "python",
   "pygments_lexer": "ipython3",
   "version": "3.6.5"
  }
 },
 "nbformat": 4,
 "nbformat_minor": 2
}
