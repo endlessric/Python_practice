{
 "cells": [
  {
   "cell_type": "code",
   "execution_count": 2,
   "metadata": {},
   "outputs": [
    {
     "name": "stdout",
     "output_type": "stream",
     "text": [
      "env: KERAS_BACKEND=tensorflow\n"
     ]
    }
   ],
   "source": [
    "%env KERAS_BACKEND=tensorflow"
   ]
  },
  {
   "cell_type": "code",
   "execution_count": 3,
   "metadata": {},
   "outputs": [
    {
     "name": "stderr",
     "output_type": "stream",
     "text": [
      "Using TensorFlow backend.\n"
     ]
    }
   ],
   "source": [
    "%matplotlib inline\n",
    "import matplotlib.pyplot as plt\n",
    "import numpy as np\n",
    "# Keras dataset\n",
    "from keras.datasets import mnist\n",
    "\n",
    "from ipywidgets import interact, IntSlider, Button"
   ]
  },
  {
   "cell_type": "code",
   "execution_count": 4,
   "metadata": {},
   "outputs": [],
   "source": [
    "# Keras utils\n",
    "from keras.utils import np_utils\n",
    "from keras.utils import to_categorical"
   ]
  },
  {
   "cell_type": "code",
   "execution_count": 5,
   "metadata": {},
   "outputs": [],
   "source": [
    "(x_train0, y_train0), (x_test0, y_test0) = mnist.load_data()"
   ]
  },
  {
   "cell_type": "code",
   "execution_count": 6,
   "metadata": {},
   "outputs": [
    {
     "data": {
      "text/plain": [
       "(28, 28)"
      ]
     },
     "execution_count": 6,
     "metadata": {},
     "output_type": "execute_result"
    }
   ],
   "source": [
    "x_train0[5].shape"
   ]
  },
  {
   "cell_type": "markdown",
   "metadata": {},
   "source": [
    "# CNN要的維度(28,28,1)"
   ]
  },
  {
   "cell_type": "code",
   "execution_count": 7,
   "metadata": {},
   "outputs": [],
   "source": [
    "x_train = x_train0.reshape(60000,28,28,1)\n",
    "x_test = x_test0.reshape(10000,28,28,1)"
   ]
  },
  {
   "cell_type": "code",
   "execution_count": 8,
   "metadata": {},
   "outputs": [
    {
     "data": {
      "text/plain": [
       "(28, 28, 1)"
      ]
     },
     "execution_count": 8,
     "metadata": {},
     "output_type": "execute_result"
    }
   ],
   "source": [
    "x_train[5].shape"
   ]
  },
  {
   "cell_type": "code",
   "execution_count": 9,
   "metadata": {},
   "outputs": [],
   "source": [
    "y_train = to_categorical(y_train0,10)\n",
    "y_test = to_categorical(y_test0,10)"
   ]
  },
  {
   "cell_type": "code",
   "execution_count": 10,
   "metadata": {
    "scrolled": true
   },
   "outputs": [
    {
     "data": {
      "text/plain": [
       "array([0., 0., 1., 0., 0., 0., 0., 0., 0., 0.])"
      ]
     },
     "execution_count": 10,
     "metadata": {},
     "output_type": "execute_result"
    }
   ],
   "source": [
    "y_train[5]"
   ]
  },
  {
   "cell_type": "markdown",
   "metadata": {},
   "source": [
    "# Normalization"
   ]
  },
  {
   "cell_type": "code",
   "execution_count": 11,
   "metadata": {},
   "outputs": [],
   "source": [
    "x_train = x_train/255\n",
    "x_test = x_test/255"
   ]
  },
  {
   "cell_type": "code",
   "execution_count": 12,
   "metadata": {},
   "outputs": [],
   "source": [
    "from keras.models import Sequential\n",
    "from keras.layers import Dense, Activation, Flatten\n",
    "from keras.layers import Conv2D,MaxPooling2D\n",
    "from keras.optimizers import SGD"
   ]
  },
  {
   "cell_type": "markdown",
   "metadata": {},
   "source": [
    "### CNN Structure"
   ]
  },
  {
   "cell_type": "markdown",
   "metadata": {},
   "source": [
    "![Structure](CNN_structure.png)"
   ]
  },
  {
   "cell_type": "code",
   "execution_count": 13,
   "metadata": {},
   "outputs": [],
   "source": [
    "#190509\n",
    "model = Sequential()\n",
    "\n",
    "model.add(Conv2D(4, (3,3), padding = 'same', input_shape = (28,28,1)))\n",
    "model.add(Activation('relu'))\n",
    "model.add(MaxPooling2D(pool_size = (2,2)))\n",
    "\n",
    "model.add(Conv2D(8, (3,3), padding = 'same'))\n",
    "model.add(Activation('relu'))\n",
    "model.add(MaxPooling2D(pool_size = (2,2)))\n",
    "\n",
    "model.add(Conv2D(16, (3,3), padding = 'same'))\n",
    "model.add(Activation('relu'))\n",
    "model.add(MaxPooling2D(pool_size = (2,2)))\n",
    "\n",
    "model.add(Conv2D(32, (3,3), padding = 'same'))\n",
    "model.add(Activation('relu'))\n",
    "model.add(MaxPooling2D(pool_size = (2,2)))\n",
    "          \n",
    "model.add(Flatten())\n",
    "model.add(Dense(20))\n",
    "model.add(Activation('relu'))\n",
    "\n",
    "model.add(Dense(10))\n",
    "\n",
    "model.add(Activation('softmax'))"
   ]
  },
  {
   "cell_type": "code",
   "execution_count": 14,
   "metadata": {},
   "outputs": [],
   "source": [
    "model_info = model.compile(loss = 'mse',optimizer=SGD(lr=0.07),metrics=['accuracy'])"
   ]
  },
  {
   "cell_type": "code",
   "execution_count": 15,
   "metadata": {},
   "outputs": [
    {
     "name": "stdout",
     "output_type": "stream",
     "text": [
      "_________________________________________________________________\n",
      "Layer (type)                 Output Shape              Param #   \n",
      "=================================================================\n",
      "conv2d_1 (Conv2D)            (None, 28, 28, 4)         40        \n",
      "_________________________________________________________________\n",
      "activation_1 (Activation)    (None, 28, 28, 4)         0         \n",
      "_________________________________________________________________\n",
      "max_pooling2d_1 (MaxPooling2 (None, 14, 14, 4)         0         \n",
      "_________________________________________________________________\n",
      "conv2d_2 (Conv2D)            (None, 14, 14, 8)         296       \n",
      "_________________________________________________________________\n",
      "activation_2 (Activation)    (None, 14, 14, 8)         0         \n",
      "_________________________________________________________________\n",
      "max_pooling2d_2 (MaxPooling2 (None, 7, 7, 8)           0         \n",
      "_________________________________________________________________\n",
      "conv2d_3 (Conv2D)            (None, 7, 7, 16)          1168      \n",
      "_________________________________________________________________\n",
      "activation_3 (Activation)    (None, 7, 7, 16)          0         \n",
      "_________________________________________________________________\n",
      "max_pooling2d_3 (MaxPooling2 (None, 3, 3, 16)          0         \n",
      "_________________________________________________________________\n",
      "conv2d_4 (Conv2D)            (None, 3, 3, 32)          4640      \n",
      "_________________________________________________________________\n",
      "activation_4 (Activation)    (None, 3, 3, 32)          0         \n",
      "_________________________________________________________________\n",
      "max_pooling2d_4 (MaxPooling2 (None, 1, 1, 32)          0         \n",
      "_________________________________________________________________\n",
      "flatten_1 (Flatten)          (None, 32)                0         \n",
      "_________________________________________________________________\n",
      "dense_1 (Dense)              (None, 20)                660       \n",
      "_________________________________________________________________\n",
      "activation_5 (Activation)    (None, 20)                0         \n",
      "_________________________________________________________________\n",
      "dense_2 (Dense)              (None, 10)                210       \n",
      "_________________________________________________________________\n",
      "activation_6 (Activation)    (None, 10)                0         \n",
      "=================================================================\n",
      "Total params: 7,014\n",
      "Trainable params: 7,014\n",
      "Non-trainable params: 0\n",
      "_________________________________________________________________\n"
     ]
    }
   ],
   "source": [
    "model.summary()\n",
    "#參數1 3*3*4 + 4 = 40\n",
    "#參數2 3*3*8*4 + 8 = 296\n",
    "#參數3 3*3*16*8 + 16 = 1168\n"
   ]
  },
  {
   "cell_type": "code",
   "execution_count": 16,
   "metadata": {
    "scrolled": true
   },
   "outputs": [
    {
     "name": "stdout",
     "output_type": "stream",
     "text": [
      "Epoch 1/40\n",
      "60000/60000 [==============================] - 37s - loss: 0.0896 - acc: 0.1957    \n",
      "Epoch 2/40\n",
      "60000/60000 [==============================] - 37s - loss: 0.0887 - acc: 0.2307    \n",
      "Epoch 3/40\n",
      "60000/60000 [==============================] - 37s - loss: 0.0854 - acc: 0.2468    \n",
      "Epoch 4/40\n",
      "60000/60000 [==============================] - 37s - loss: 0.0731 - acc: 0.3873    \n",
      "Epoch 5/40\n",
      "60000/60000 [==============================] - 37s - loss: 0.0490 - acc: 0.6617    \n",
      "Epoch 6/40\n",
      "60000/60000 [==============================] - 38s - loss: 0.0320 - acc: 0.7773    \n",
      "Epoch 7/40\n",
      "60000/60000 [==============================] - 37s - loss: 0.0247 - acc: 0.8301    \n",
      "Epoch 8/40\n",
      "60000/60000 [==============================] - 37s - loss: 0.0199 - acc: 0.8659    \n",
      "Epoch 9/40\n",
      "60000/60000 [==============================] - 35s - loss: 0.0162 - acc: 0.8920    \n",
      "Epoch 10/40\n",
      "60000/60000 [==============================] - 35s - loss: 0.0139 - acc: 0.9086    \n",
      "Epoch 11/40\n",
      "60000/60000 [==============================] - 35s - loss: 0.0121 - acc: 0.9203    \n",
      "Epoch 12/40\n",
      "60000/60000 [==============================] - 35s - loss: 0.0107 - acc: 0.9305    \n",
      "Epoch 13/40\n",
      "60000/60000 [==============================] - 35s - loss: 0.0098 - acc: 0.9362    \n",
      "Epoch 14/40\n",
      "60000/60000 [==============================] - 35s - loss: 0.0088 - acc: 0.9434    \n",
      "Epoch 15/40\n",
      "60000/60000 [==============================] - 38s - loss: 0.0083 - acc: 0.9464    \n",
      "Epoch 16/40\n",
      "60000/60000 [==============================] - 35s - loss: 0.0077 - acc: 0.9504    \n",
      "Epoch 17/40\n",
      "60000/60000 [==============================] - 35s - loss: 0.0073 - acc: 0.9534    \n",
      "Epoch 18/40\n",
      "60000/60000 [==============================] - 35s - loss: 0.0069 - acc: 0.9557    \n",
      "Epoch 19/40\n",
      "60000/60000 [==============================] - 35s - loss: 0.0066 - acc: 0.9573    \n",
      "Epoch 20/40\n",
      "60000/60000 [==============================] - 35s - loss: 0.0062 - acc: 0.9598    \n",
      "Epoch 21/40\n",
      "60000/60000 [==============================] - 35s - loss: 0.0061 - acc: 0.9610    \n",
      "Epoch 22/40\n",
      "60000/60000 [==============================] - 35s - loss: 0.0058 - acc: 0.9626    \n",
      "Epoch 23/40\n",
      "60000/60000 [==============================] - 35s - loss: 0.0057 - acc: 0.9634    \n",
      "Epoch 24/40\n",
      "60000/60000 [==============================] - 35s - loss: 0.0054 - acc: 0.9650    \n",
      "Epoch 25/40\n",
      "60000/60000 [==============================] - 35s - loss: 0.0052 - acc: 0.9663    \n",
      "Epoch 26/40\n",
      "60000/60000 [==============================] - 35s - loss: 0.0052 - acc: 0.9666    \n",
      "Epoch 27/40\n",
      "60000/60000 [==============================] - 35s - loss: 0.0050 - acc: 0.9678    \n",
      "Epoch 28/40\n",
      "60000/60000 [==============================] - 35s - loss: 0.0049 - acc: 0.9683    \n",
      "Epoch 29/40\n",
      "60000/60000 [==============================] - 35s - loss: 0.0047 - acc: 0.9692    \n",
      "Epoch 30/40\n",
      "60000/60000 [==============================] - 35s - loss: 0.0046 - acc: 0.9705    \n",
      "Epoch 31/40\n",
      "60000/60000 [==============================] - 35s - loss: 0.0045 - acc: 0.9707    \n",
      "Epoch 32/40\n",
      "60000/60000 [==============================] - 35s - loss: 0.0044 - acc: 0.9715    \n",
      "Epoch 33/40\n",
      "60000/60000 [==============================] - 35s - loss: 0.0044 - acc: 0.9719    \n",
      "Epoch 34/40\n",
      "60000/60000 [==============================] - 35s - loss: 0.0042 - acc: 0.9732    \n",
      "Epoch 35/40\n",
      "60000/60000 [==============================] - 35s - loss: 0.0041 - acc: 0.9735    \n",
      "Epoch 36/40\n",
      "60000/60000 [==============================] - 35s - loss: 0.0040 - acc: 0.9744    \n",
      "Epoch 37/40\n",
      "60000/60000 [==============================] - 35s - loss: 0.0039 - acc: 0.9749    \n",
      "Epoch 38/40\n",
      "60000/60000 [==============================] - 35s - loss: 0.0039 - acc: 0.9747    \n",
      "Epoch 39/40\n",
      "60000/60000 [==============================] - 35s - loss: 0.0038 - acc: 0.9752    \n",
      "Epoch 40/40\n",
      "60000/60000 [==============================] - 37s - loss: 0.0037 - acc: 0.9764    \n"
     ]
    }
   ],
   "source": [
    "model_info = model.fit(x_train, y_train, batch_size = 100, epochs = 40)"
   ]
  },
  {
   "cell_type": "code",
   "execution_count": 17,
   "metadata": {},
   "outputs": [
    {
     "data": {
      "text/plain": [
       "<function matplotlib.pyplot.show(*args, **kw)>"
      ]
     },
     "execution_count": 17,
     "metadata": {},
     "output_type": "execute_result"
    },
    {
     "data": {
      "image/png": "[encoded data removed]",
      "text/plain": [
       "<Figure size 432x288 with 1 Axes>"
      ]
     },
     "metadata": {
      "needs_background": "light"
     },
     "output_type": "display_data"
    }
   ],
   "source": [
    "plt.plot(model_info.history['acc'],c = 'b')\n",
    "plt.title('Model accuracy')\n",
    "plt.ylabel('accuracy')\n",
    "plt.xlabel('epochs')\n",
    "plt.legend([\"accuracy\"],loc = \"best\")\n",
    "plt.show"
   ]
  },
  {
   "cell_type": "code",
   "execution_count": 18,
   "metadata": {},
   "outputs": [],
   "source": [
    "# MESE -> 回歸\n",
    "# Cross entropy ->  分類"
   ]
  },
  {
   "cell_type": "code",
   "execution_count": 19,
   "metadata": {},
   "outputs": [
    {
     "data": {
      "image/png": "[encoded data removed]",
      "text/plain": [
       "<Figure size 432x288 with 1 Axes>"
      ]
     },
     "metadata": {
      "needs_background": "light"
     },
     "output_type": "display_data"
    }
   ],
   "source": [
    "plt.plot(model_info.history['loss'], label='Loss', c=\"r\")\n",
    "\n",
    "plt.title(\"Model's Loss\")\n",
    "plt.ylabel(\"accuracy\")\n",
    "plt.xlabel(\"epochs\")\n",
    "plt.legend(loc=\"best\")\n",
    "plt.show()"
   ]
  }
 ],
 "metadata": {
  "kernelspec": {
   "display_name": "Python 3",
   "language": "python",
   "name": "python3"
  },
  "language_info": {
   "codemirror_mode": {
    "name": "ipython",
    "version": 3
   },
   "file_extension": ".py",
   "mimetype": "text/x-python",
   "name": "python",
   "nbconvert_exporter": "python",
   "pygments_lexer": "ipython3",
   "version": "3.6.8"
  }
 },
 "nbformat": 4,
 "nbformat_minor": 2
}
