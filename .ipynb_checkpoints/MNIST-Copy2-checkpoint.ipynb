{
 "cells": [
  {
   "cell_type": "code",
   "execution_count": 1,
   "metadata": {
    "scrolled": true
   },
   "outputs": [],
   "source": [
    "%matplotlib inline\n",
    "import numpy as np\n",
    "import matplotlib.pyplot as plt"
   ]
  },
  {
   "cell_type": "code",
   "execution_count": 2,
   "metadata": {},
   "outputs": [
    {
     "name": "stderr",
     "output_type": "stream",
     "text": [
      "Using TensorFlow backend.\n"
     ]
    }
   ],
   "source": [
    "from keras.datasets import mnist"
   ]
  },
  {
   "cell_type": "code",
   "execution_count": 3,
   "metadata": {},
   "outputs": [],
   "source": [
    "(x_train,y_train),(x_test,y_test) = mnist.load_data()"
   ]
  },
  {
   "cell_type": "code",
   "execution_count": 4,
   "metadata": {},
   "outputs": [
    {
     "data": {
      "text/plain": [
       "60000"
      ]
     },
     "execution_count": 4,
     "metadata": {},
     "output_type": "execute_result"
    }
   ],
   "source": [
    "len(x_train)"
   ]
  },
  {
   "cell_type": "code",
   "execution_count": 5,
   "metadata": {},
   "outputs": [
    {
     "data": {
      "text/plain": [
       "10000"
      ]
     },
     "execution_count": 5,
     "metadata": {},
     "output_type": "execute_result"
    }
   ],
   "source": [
    "len(x_test)"
   ]
  },
  {
   "cell_type": "code",
   "execution_count": 6,
   "metadata": {},
   "outputs": [],
   "source": [
    "X = x_train[87]"
   ]
  },
  {
   "cell_type": "code",
   "execution_count": 7,
   "metadata": {
    "scrolled": true
   },
   "outputs": [
    {
     "data": {
      "text/plain": [
       "array([[  0,   0,   0,   0,   0,   0,   0,   0,   0,   0,   0,   0,   0,\n",
       "          0,   0,   0,   0,   0,   0,   0,   0,   0,   0,   0,   0,   0,\n",
       "          0,   0],\n",
       "       [  0,   0,   0,   0,   0,   0,   0,   0,   0,   0,   0,   0,   0,\n",
       "          0,   0,   0,   0,   0,   0,   0,   0,   0,   0,   0,   0,   0,\n",
       "          0,   0],\n",
       "       [  0,   0,   0,   0,   0,   0,   0,   0,   0,   0,   0,   0,   0,\n",
       "          0,   0,   0,   0,   0,   0,   0,   0,   0,   0,   0,   0,   0,\n",
       "          0,   0],\n",
       "       [  0,   0,   0,   0,   0,   0,   0,   0,   0,   0,   0,   0,   0,\n",
       "          0,   0,   0,   0,   0,   0,   0,   0,   0,   0,   0,   0,   0,\n",
       "          0,   0],\n",
       "       [  0,   0,   0,   0,   0,   0,   0,   0,   0,   0,   0,   0,   0,\n",
       "          0,   0,   0,   0,   0,   0,   0,   0,   0,   0,   0,   0,   0,\n",
       "          0,   0],\n",
       "       [  0,   0,   0,   0,   0,   0,   0,   0,   0,   0,   0,   0,   0,\n",
       "          0,   0,   0,   0,   0,   0,   0,   0,   0,   0,   0,   0,   0,\n",
       "          0,   0],\n",
       "       [  0,   0,   0,   0,   0,   0,   0,   0,   0,   0,   0,   0,   0,\n",
       "          0,   0,   0,   0,   0,   0,   0,   0,   0,   0,   0,   0,   0,\n",
       "          0,   0],\n",
       "       [  0,   0,   0,   0,   0,   0,   0,   0,   0,   0,   0,   0,  39,\n",
       "        125, 225, 254, 254, 255, 254, 170,  48,   0,   0,   0,   0,   0,\n",
       "          0,   0],\n",
       "       [  0,   0,   0,   0,   0,   0,   0,   0,   0,   0,  43, 101, 250,\n",
       "        253, 253, 253, 253, 253, 253, 253, 250, 161,   0,   0,   0,   0,\n",
       "          0,   0],\n",
       "       [  0,   0,   0,   0,   0,   0,   0,   0,   0,  94, 246, 247, 253,\n",
       "        253, 196, 227, 116,  56, 253, 253, 253, 234,   0,   0,   0,   0,\n",
       "          0,   0],\n",
       "       [  0,   0,   0,   0,   0,   0,   0,   0,   0, 152, 253, 253, 180,\n",
       "         19,   9,  15,   0,   4,  55, 253, 253, 166,   0,   0,   0,   0,\n",
       "          0,   0],\n",
       "       [  0,   0,   0,   0,   0,   0,   0,   0,  41, 238, 253, 253, 125,\n",
       "          0,   0,   0,  21, 189, 232, 253, 253, 117,   0,   0,   0,   0,\n",
       "          0,   0],\n",
       "       [  0,   0,   0,   0,   0,   0,   0,   0, 219, 253, 220, 165,  34,\n",
       "         92,  21,  52, 228, 253, 253, 241,  82,  13,   0,   0,   0,   0,\n",
       "          0,   0],\n",
       "       [  0,   0,   0,   0,   0,   0,   0,  38, 241, 170,  25,  20,  12,\n",
       "         75,  39,  59, 253, 253, 253, 110,   0,   0,   0,   0,   0,   0,\n",
       "          0,   0],\n",
       "       [  0,   0,   0,   0,   0,   0,   0, 112, 253, 236,  67,   0,   0,\n",
       "          0,   0, 100, 253, 253, 221,  16,   0,   0,   0,   0,   0,   0,\n",
       "          0,   0],\n",
       "       [  0,   0,   0,   0,   0,   0,   0,  23, 239, 253, 235, 202, 135,\n",
       "         99, 173, 240, 253, 253, 110,   0,   0,   0,   0,   0,   0,   0,\n",
       "          0,   0],\n",
       "       [  0,   0,   0,   0,   0,   0,   0,   0,  54, 200, 253, 253, 253,\n",
       "        253, 253, 253, 253, 241,  63,   0,   0,   0,   0,   0,   0,   0,\n",
       "          0,   0],\n",
       "       [  0,   0,   0,   0,   0,   0,   0,   0,   0,  25, 112, 244, 253,\n",
       "        237, 142, 253, 253, 111,   0,   0,   0,   0,   0,   0,   0,   0,\n",
       "          0,   0],\n",
       "       [  0,   0,   0,   0,   0,   0,   0,   0,   0,   0,   0,  61,  71,\n",
       "         51, 159, 253, 188,  22,   0,   0,   0,   0,   0,   0,   0,   0,\n",
       "          0,   0],\n",
       "       [  0,   0,   0,   0,   0,   0,   0,   0,   0,   0,   0,   0,  15,\n",
       "        150, 236, 212,  22,   0,   0,   0,   0,   0,   0,   0,   0,   0,\n",
       "          0,   0],\n",
       "       [  0,   0,   0,   0,   0,   0,   0,   0,   0,   0,   0,   0,  99,\n",
       "        253, 243,  98,   0,   0,   0,   0,   0,   0,   0,   0,   0,   0,\n",
       "          0,   0],\n",
       "       [  0,   0,   0,   0,   0,   0,   0,   0,   0,   0,   0,  72, 237,\n",
       "        253, 105,   0,   0,   0,   0,   0,   0,   0,   0,   0,   0,   0,\n",
       "          0,   0],\n",
       "       [  0,   0,   0,   0,   0,   0,   0,   0,   0,   0,  10, 219, 253,\n",
       "        195,  22,   0,   0,   0,   0,   0,   0,   0,   0,   0,   0,   0,\n",
       "          0,   0],\n",
       "       [  0,   0,   0,   0,   0,   0,   0,   0,   0,   8, 171, 253, 207,\n",
       "         21,   0,   0,   0,   0,   0,   0,   0,   0,   0,   0,   0,   0,\n",
       "          0,   0],\n",
       "       [  0,   0,   0,   0,   0,   0,   0,   0,   0, 105, 253, 198,  76,\n",
       "          0,   0,   0,   0,   0,   0,   0,   0,   0,   0,   0,   0,   0,\n",
       "          0,   0],\n",
       "       [  0,   0,   0,   0,   0,   0,   0,   0,  60, 242, 253,  38,   0,\n",
       "          0,   0,   0,   0,   0,   0,   0,   0,   0,   0,   0,   0,   0,\n",
       "          0,   0],\n",
       "       [  0,   0,   0,   0,   0,   0,   0,   0, 235, 253, 206,  19,   0,\n",
       "          0,   0,   0,   0,   0,   0,   0,   0,   0,   0,   0,   0,   0,\n",
       "          0,   0],\n",
       "       [  0,   0,   0,   0,   0,   0,   0,   0,   0,   0,   0,   0,   0,\n",
       "          0,   0,   0,   0,   0,   0,   0,   0,   0,   0,   0,   0,   0,\n",
       "          0,   0]], dtype=uint8)"
      ]
     },
     "execution_count": 7,
     "metadata": {},
     "output_type": "execute_result"
    }
   ],
   "source": [
    "X"
   ]
  },
  {
   "cell_type": "code",
   "execution_count": 8,
   "metadata": {},
   "outputs": [
    {
     "data": {
      "text/plain": [
       "(28, 28)"
      ]
     },
     "execution_count": 8,
     "metadata": {},
     "output_type": "execute_result"
    }
   ],
   "source": [
    "X.shape"
   ]
  },
  {
   "cell_type": "code",
   "execution_count": 9,
   "metadata": {},
   "outputs": [
    {
     "data": {
      "text/plain": [
       "<matplotlib.image.AxesImage at 0x7f2292d9af28>"
      ]
     },
     "execution_count": 9,
     "metadata": {},
     "output_type": "execute_result"
    },
    {
     "data": {
      "image/png": "[encoded data removed]",
      "text/plain": [
       "<Figure size 432x288 with 1 Axes>"
      ]
     },
     "metadata": {
      "needs_background": "light"
     },
     "output_type": "display_data"
    }
   ],
   "source": [
    "plt.imshow(X,cmap = 'Greys')"
   ]
  },
  {
   "cell_type": "code",
   "execution_count": 10,
   "metadata": {},
   "outputs": [
    {
     "data": {
      "text/plain": [
       "9"
      ]
     },
     "execution_count": 10,
     "metadata": {},
     "output_type": "execute_result"
    }
   ],
   "source": [
    "y_train[87]"
   ]
  },
  {
   "cell_type": "markdown",
   "metadata": {},
   "source": [
    "# 因為後面接fully connected,所以要將矩陣拉平"
   ]
  },
  {
   "cell_type": "code",
   "execution_count": 11,
   "metadata": {},
   "outputs": [
    {
     "data": {
      "text/plain": [
       "(60000, 28, 28)"
      ]
     },
     "execution_count": 11,
     "metadata": {},
     "output_type": "execute_result"
    }
   ],
   "source": [
    "x_train.shape"
   ]
  },
  {
   "cell_type": "code",
   "execution_count": 12,
   "metadata": {},
   "outputs": [],
   "source": [
    "x_train = x_train.reshape(60000,784)\n",
    "x_test = x_test.reshape(10000,784)"
   ]
  },
  {
   "cell_type": "markdown",
   "metadata": {},
   "source": [
    "# 做 1-hot encoding"
   ]
  },
  {
   "cell_type": "code",
   "execution_count": 13,
   "metadata": {},
   "outputs": [],
   "source": [
    "from keras.utils import np_utils"
   ]
  },
  {
   "cell_type": "code",
   "execution_count": 14,
   "metadata": {},
   "outputs": [],
   "source": [
    "y_train = np_utils.to_categorical(y_train,10)\n",
    "y_test = np_utils.to_categorical(y_test,10)"
   ]
  },
  {
   "cell_type": "code",
   "execution_count": 15,
   "metadata": {},
   "outputs": [],
   "source": [
    "from keras.models import Sequential\n",
    "from keras.layers import Dense,Activation\n",
    "from keras.optimizers import SGD"
   ]
  },
  {
   "cell_type": "code",
   "execution_count": 30,
   "metadata": {},
   "outputs": [],
   "source": [
    "model = Sequential()\n",
    "#4個神經元,剛開始要告訴輸入維度\n",
    "model.add(Dense(6,input_dim = 784))\n",
    "model.add(Activation('sigmoid'))\n",
    "#2個神經元\n",
    "model.add(Dense(1000))\n",
    "model.add(Activation('sigmoid'))\n",
    "\n",
    "model.add(Dense(10))\n",
    "model.add(Activation('softmax'))"
   ]
  },
  {
   "cell_type": "code",
   "execution_count": 31,
   "metadata": {},
   "outputs": [
    {
     "name": "stdout",
     "output_type": "stream",
     "text": [
      "_________________________________________________________________\n",
      "Layer (type)                 Output Shape              Param #   \n",
      "=================================================================\n",
      "dense_11 (Dense)             (None, 6)                 4710      \n",
      "_________________________________________________________________\n",
      "activation_11 (Activation)   (None, 6)                 0         \n",
      "_________________________________________________________________\n",
      "dense_12 (Dense)             (None, 1000)              7000      \n",
      "_________________________________________________________________\n",
      "activation_12 (Activation)   (None, 1000)              0         \n",
      "_________________________________________________________________\n",
      "dense_13 (Dense)             (None, 10)                10010     \n",
      "_________________________________________________________________\n",
      "activation_13 (Activation)   (None, 10)                0         \n",
      "=================================================================\n",
      "Total params: 21,720\n",
      "Trainable params: 21,720\n",
      "Non-trainable params: 0\n",
      "_________________________________________________________________\n"
     ]
    }
   ],
   "source": [
    "#matrix是可以看目前的資訊\n",
    "model.compile(loss='mse',optimizer=SGD(lr=0.087),metrics=['accuracy'])\n",
    "model.summary()\n"
   ]
  },
  {
   "cell_type": "code",
   "execution_count": 32,
   "metadata": {},
   "outputs": [],
   "source": [
    "#matrix是可以看目前的資訊\n",
    "model.compile(loss='mse',optimizer=SGD(lr=0.087),metrics=['accuracy'])\n"
   ]
  },
  {
   "cell_type": "code",
   "execution_count": 36,
   "metadata": {},
   "outputs": [
    {
     "name": "stdout",
     "output_type": "stream",
     "text": [
      "Epoch 1/40\n",
      "60000/60000 [==============================] - 4s - loss: 0.0297 - acc: 0.8235     \n",
      "Epoch 2/40\n",
      "60000/60000 [==============================] - 4s - loss: 0.0292 - acc: 0.8265     \n",
      "Epoch 3/40\n",
      "60000/60000 [==============================] - 4s - loss: 0.0301 - acc: 0.8127     \n",
      "Epoch 4/40\n",
      "60000/60000 [==============================] - 4s - loss: 0.0297 - acc: 0.8223     \n",
      "Epoch 5/40\n",
      "60000/60000 [==============================] - 4s - loss: 0.0286 - acc: 0.8282     \n",
      "Epoch 6/40\n",
      "60000/60000 [==============================] - 4s - loss: 0.0287 - acc: 0.8314     \n",
      "Epoch 7/40\n",
      "60000/60000 [==============================] - 4s - loss: 0.0291 - acc: 0.8227     \n",
      "Epoch 8/40\n",
      "60000/60000 [==============================] - 4s - loss: 0.0292 - acc: 0.8289     \n",
      "Epoch 9/40\n",
      "60000/60000 [==============================] - 4s - loss: 0.0283 - acc: 0.8323     \n",
      "Epoch 10/40\n",
      "60000/60000 [==============================] - 4s - loss: 0.0283 - acc: 0.8303     \n",
      "Epoch 11/40\n",
      "60000/60000 [==============================] - 4s - loss: 0.0281 - acc: 0.8359     \n",
      "Epoch 12/40\n",
      "60000/60000 [==============================] - 4s - loss: 0.0283 - acc: 0.8314     \n",
      "Epoch 13/40\n",
      "60000/60000 [==============================] - 4s - loss: 0.0280 - acc: 0.8361     \n",
      "Epoch 14/40\n",
      "60000/60000 [==============================] - 4s - loss: 0.0281 - acc: 0.8292     \n",
      "Epoch 15/40\n",
      "60000/60000 [==============================] - 4s - loss: 0.0282 - acc: 0.8344     \n",
      "Epoch 16/40\n",
      "60000/60000 [==============================] - 4s - loss: 0.0278 - acc: 0.8374     \n",
      "Epoch 17/40\n",
      "60000/60000 [==============================] - 4s - loss: 0.0279 - acc: 0.8339     \n",
      "Epoch 18/40\n",
      "60000/60000 [==============================] - 4s - loss: 0.0273 - acc: 0.8382     \n",
      "Epoch 19/40\n",
      "60000/60000 [==============================] - 4s - loss: 0.0271 - acc: 0.8384     \n",
      "Epoch 20/40\n",
      "60000/60000 [==============================] - 4s - loss: 0.0273 - acc: 0.8386     \n",
      "Epoch 21/40\n",
      "60000/60000 [==============================] - 4s - loss: 0.0271 - acc: 0.8402     \n",
      "Epoch 22/40\n",
      "60000/60000 [==============================] - 4s - loss: 0.0264 - acc: 0.8448     \n",
      "Epoch 23/40\n",
      "60000/60000 [==============================] - 4s - loss: 0.0268 - acc: 0.8421     \n",
      "Epoch 24/40\n",
      "60000/60000 [==============================] - 4s - loss: 0.0266 - acc: 0.8391     \n",
      "Epoch 25/40\n",
      "60000/60000 [==============================] - 4s - loss: 0.0266 - acc: 0.8432     \n",
      "Epoch 26/40\n",
      "60000/60000 [==============================] - 4s - loss: 0.0267 - acc: 0.8440     \n",
      "Epoch 27/40\n",
      "60000/60000 [==============================] - 4s - loss: 0.0272 - acc: 0.8393     \n",
      "Epoch 28/40\n",
      "60000/60000 [==============================] - 4s - loss: 0.0270 - acc: 0.8389     \n",
      "Epoch 29/40\n",
      "60000/60000 [==============================] - 5s - loss: 0.0276 - acc: 0.8359     \n",
      "Epoch 30/40\n",
      "60000/60000 [==============================] - 5s - loss: 0.0264 - acc: 0.8459     \n",
      "Epoch 31/40\n",
      "60000/60000 [==============================] - 5s - loss: 0.0263 - acc: 0.8422     \n",
      "Epoch 32/40\n",
      "60000/60000 [==============================] - 5s - loss: 0.0265 - acc: 0.8424     \n",
      "Epoch 33/40\n",
      "60000/60000 [==============================] - 5s - loss: 0.0260 - acc: 0.8492     \n",
      "Epoch 34/40\n",
      "60000/60000 [==============================] - 5s - loss: 0.0273 - acc: 0.8376     \n",
      "Epoch 35/40\n",
      "60000/60000 [==============================] - 5s - loss: 0.0265 - acc: 0.8438     \n",
      "Epoch 36/40\n",
      "60000/60000 [==============================] - 5s - loss: 0.0260 - acc: 0.8468     \n",
      "Epoch 37/40\n",
      "60000/60000 [==============================] - 5s - loss: 0.0255 - acc: 0.8497     \n",
      "Epoch 38/40\n",
      "60000/60000 [==============================] - 5s - loss: 0.0264 - acc: 0.8428     \n",
      "Epoch 39/40\n",
      "60000/60000 [==============================] - 5s - loss: 0.0260 - acc: 0.8467     \n",
      "Epoch 40/40\n",
      "60000/60000 [==============================] - 5s - loss: 0.0264 - acc: 0.8446     \n"
     ]
    },
    {
     "data": {
      "text/plain": [
       "<keras.callbacks.History at 0x7f2280b9fa58>"
      ]
     },
     "execution_count": 36,
     "metadata": {},
     "output_type": "execute_result"
    }
   ],
   "source": [
    "model.fit(x_train,y_train,batch_size=100,epochs=40)"
   ]
  },
  {
   "cell_type": "code",
   "execution_count": null,
   "metadata": {},
   "outputs": [],
   "source": []
  },
  {
   "cell_type": "code",
   "execution_count": 20,
   "metadata": {},
   "outputs": [],
   "source": [
    "#2個神經元\n",
    "model.add(Dense(2))\n",
    "model.add(Activation('sigmoid'))"
   ]
  },
  {
   "cell_type": "code",
   "execution_count": 21,
   "metadata": {},
   "outputs": [],
   "source": [
    "model.add(Dense(10))\n",
    "model.add(Activation('softmax'))"
   ]
  },
  {
   "cell_type": "code",
   "execution_count": 22,
   "metadata": {},
   "outputs": [],
   "source": [
    "#matrix是可以看目前的資訊\n",
    "model.compile(loss='mse',optimizer=SGD(lr=0.087),metrics=['accuracy'])\n"
   ]
  },
  {
   "cell_type": "code",
   "execution_count": 23,
   "metadata": {
    "scrolled": false
   },
   "outputs": [
    {
     "name": "stdout",
     "output_type": "stream",
     "text": [
      "_________________________________________________________________\n",
      "Layer (type)                 Output Shape              Param #   \n",
      "=================================================================\n",
      "dense_1 (Dense)              (None, 6)                 4710      \n",
      "_________________________________________________________________\n",
      "activation_1 (Activation)    (None, 6)                 0         \n",
      "_________________________________________________________________\n",
      "dense_2 (Dense)              (None, 100)               700       \n",
      "_________________________________________________________________\n",
      "activation_2 (Activation)    (None, 100)               0         \n",
      "_________________________________________________________________\n",
      "dense_3 (Dense)              (None, 100)               10100     \n",
      "_________________________________________________________________\n",
      "activation_3 (Activation)    (None, 100)               0         \n",
      "_________________________________________________________________\n",
      "dense_4 (Dense)              (None, 10)                1010      \n",
      "_________________________________________________________________\n",
      "activation_4 (Activation)    (None, 10)                0         \n",
      "_________________________________________________________________\n",
      "dense_5 (Dense)              (None, 2)                 22        \n",
      "_________________________________________________________________\n",
      "activation_5 (Activation)    (None, 2)                 0         \n",
      "_________________________________________________________________\n",
      "dense_6 (Dense)              (None, 10)                30        \n",
      "_________________________________________________________________\n",
      "activation_6 (Activation)    (None, 10)                0         \n",
      "=================================================================\n",
      "Total params: 16,572\n",
      "Trainable params: 16,572\n",
      "Non-trainable params: 0\n",
      "_________________________________________________________________\n"
     ]
    }
   ],
   "source": [
    "model.summary()\n",
    "#784*4+4=3140\n",
    "#4*2+2=10\n",
    "#2*10+10"
   ]
  },
  {
   "cell_type": "code",
   "execution_count": 24,
   "metadata": {},
   "outputs": [
    {
     "name": "stdout",
     "output_type": "stream",
     "text": [
      "Epoch 1/20\n",
      "60000/60000 [==============================] - 3s - loss: 0.0907 - acc: 0.1044     \n",
      "Epoch 2/20\n",
      "60000/60000 [==============================] - 3s - loss: 0.0905 - acc: 0.1044     \n",
      "Epoch 3/20\n",
      "60000/60000 [==============================] - 3s - loss: 0.0904 - acc: 0.1044     \n",
      "Epoch 4/20\n",
      "60000/60000 [==============================] - 3s - loss: 0.0903 - acc: 0.1044     \n",
      "Epoch 5/20\n",
      "60000/60000 [==============================] - 3s - loss: 0.0902 - acc: 0.1044     \n",
      "Epoch 6/20\n",
      "60000/60000 [==============================] - 3s - loss: 0.0902 - acc: 0.1044     \n",
      "Epoch 7/20\n",
      "60000/60000 [==============================] - 3s - loss: 0.0901 - acc: 0.1044     \n",
      "Epoch 8/20\n",
      "60000/60000 [==============================] - 3s - loss: 0.0901 - acc: 0.1044     \n",
      "Epoch 9/20\n",
      "60000/60000 [==============================] - 3s - loss: 0.0901 - acc: 0.1044     \n",
      "Epoch 10/20\n",
      "60000/60000 [==============================] - 3s - loss: 0.0900 - acc: 0.1044     \n",
      "Epoch 11/20\n",
      "60000/60000 [==============================] - 3s - loss: 0.0900 - acc: 0.1044     \n",
      "Epoch 12/20\n",
      "60000/60000 [==============================] - 3s - loss: 0.0900 - acc: 0.1044     \n",
      "Epoch 13/20\n",
      "60000/60000 [==============================] - 3s - loss: 0.0900 - acc: 0.1044     \n",
      "Epoch 14/20\n",
      "60000/60000 [==============================] - 3s - loss: 0.0900 - acc: 0.1270     \n",
      "Epoch 15/20\n",
      "60000/60000 [==============================] - 3s - loss: 0.0900 - acc: 0.1124     \n",
      "Epoch 16/20\n",
      "60000/60000 [==============================] - 4s - loss: 0.0900 - acc: 0.1124     \n",
      "Epoch 17/20\n",
      "60000/60000 [==============================] - 3s - loss: 0.0900 - acc: 0.1124     \n",
      "Epoch 18/20\n",
      "60000/60000 [==============================] - 3s - loss: 0.0900 - acc: 0.1124     \n",
      "Epoch 19/20\n",
      "60000/60000 [==============================] - 3s - loss: 0.0900 - acc: 0.1124     \n",
      "Epoch 20/20\n",
      "60000/60000 [==============================] - 3s - loss: 0.0900 - acc: 0.1124     \n"
     ]
    },
    {
     "data": {
      "text/plain": [
       "<keras.callbacks.History at 0x7f2296452f28>"
      ]
     },
     "execution_count": 24,
     "metadata": {},
     "output_type": "execute_result"
    }
   ],
   "source": [
    "model.fit(x_train,y_train,batch_size=100,epochs=20)"
   ]
  },
  {
   "cell_type": "code",
   "execution_count": 25,
   "metadata": {},
   "outputs": [
    {
     "ename": "SyntaxError",
     "evalue": "unexpected EOF while parsing (<ipython-input-25-0d2bc4081536>, line 1)",
     "output_type": "error",
     "traceback": [
      "\u001b[0;36m  File \u001b[0;32m\"<ipython-input-25-0d2bc4081536>\"\u001b[0;36m, line \u001b[0;32m1\u001b[0m\n\u001b[0;31m    def test(測試編號):\u001b[0m\n\u001b[0m                   ^\u001b[0m\n\u001b[0;31mSyntaxError\u001b[0m\u001b[0;31m:\u001b[0m unexpected EOF while parsing\n"
     ]
    }
   ],
   "source": [
    "def test(測試編號):"
   ]
  }
 ],
 "metadata": {
  "kernelspec": {
   "display_name": "Python 3",
   "language": "python",
   "name": "python3"
  },
  "language_info": {
   "codemirror_mode": {
    "name": "ipython",
    "version": 3
   },
   "file_extension": ".py",
   "mimetype": "text/x-python",
   "name": "python",
   "nbconvert_exporter": "python",
   "pygments_lexer": "ipython3",
   "version": "3.6.5"
  }
 },
 "nbformat": 4,
 "nbformat_minor": 2
}
