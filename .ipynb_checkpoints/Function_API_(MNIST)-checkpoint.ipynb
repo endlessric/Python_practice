{
 "cells": [
  {
   "cell_type": "code",
   "execution_count": 1,
   "metadata": {},
   "outputs": [
    {
     "name": "stdout",
     "output_type": "stream",
     "text": [
      "env: KERAS_BACKEND=tensorflow\n"
     ]
    }
   ],
   "source": [
    "%env KERAS_BACKEND=tensorflow"
   ]
  },
  {
   "cell_type": "markdown",
   "metadata": {},
   "source": [
    "# Import Library"
   ]
  },
  {
   "cell_type": "code",
   "execution_count": 2,
   "metadata": {},
   "outputs": [],
   "source": [
    "%matplotlib inline\n",
    "import matplotlib.pyplot as plt\n",
    "import numpy as np\n",
    "from ipywidgets import interact, IntSlider, Button"
   ]
  },
  {
   "cell_type": "code",
   "execution_count": 10,
   "metadata": {},
   "outputs": [],
   "source": [
    "# Keras functions\n",
    "from keras.models import Sequential\n",
    "from keras.layers import Dense, Activation\n",
    "from keras.optimizers import SGD\n",
    "\n",
    "# Keras dataset\n",
    "from keras.datasets import mnist\n",
    "\n",
    "# Keras utils\n",
    "from keras.utils import np_utils\n",
    "\n",
    "from keras.models import Model\n",
    "from keras.layers import Input\n",
    "from keras.layers import concatenate, add"
   ]
  },
  {
   "cell_type": "code",
   "execution_count": 4,
   "metadata": {},
   "outputs": [],
   "source": [
    "(x_train0, y_train0), (x_test0, y_test0) = mnist.load_data()"
   ]
  },
  {
   "cell_type": "code",
   "execution_count": 5,
   "metadata": {},
   "outputs": [
    {
     "data": {
      "text/plain": [
       "(60000, 28, 28)"
      ]
     },
     "execution_count": 5,
     "metadata": {},
     "output_type": "execute_result"
    }
   ],
   "source": [
    "x_train0.shape"
   ]
  },
  {
   "cell_type": "code",
   "execution_count": 6,
   "metadata": {},
   "outputs": [],
   "source": [
    "x_train = x_train0.reshape(60000, 784)\n",
    "x_test = x_test0.reshape(10000, 784)"
   ]
  },
  {
   "cell_type": "code",
   "execution_count": 7,
   "metadata": {
    "scrolled": true
   },
   "outputs": [
    {
     "data": {
      "text/plain": [
       "(60000, 784)"
      ]
     },
     "execution_count": 7,
     "metadata": {},
     "output_type": "execute_result"
    }
   ],
   "source": [
    "x_train.shape"
   ]
  },
  {
   "cell_type": "code",
   "execution_count": 8,
   "metadata": {},
   "outputs": [],
   "source": [
    "x_train -= x_train.min()\n",
    "x_train = x_train/x_train.max()\n",
    "x_test -= x_test.min()\n",
    "x_test = x_test/x_test.max()"
   ]
  },
  {
   "cell_type": "code",
   "execution_count": 9,
   "metadata": {},
   "outputs": [
    {
     "data": {
      "text/plain": [
       "60000"
      ]
     },
     "execution_count": 9,
     "metadata": {},
     "output_type": "execute_result"
    }
   ],
   "source": [
    "len(y_train0)"
   ]
  },
  {
   "cell_type": "markdown",
   "metadata": {},
   "source": [
    "# 資料整理分類"
   ]
  },
  {
   "cell_type": "code",
   "execution_count": 11,
   "metadata": {},
   "outputs": [],
   "source": [
    "y_train = np_utils.to_categorical(y_train0,10)\n",
    "y_test = np_utils.to_categorical(y_test0,10)"
   ]
  },
  {
   "cell_type": "markdown",
   "metadata": {},
   "source": [
    "# 設計架構"
   ]
  },
  {
   "cell_type": "markdown",
   "metadata": {},
   "source": [
    "<img src=\"Structure.png\" title=\"Title text\" />"
   ]
  },
  {
   "cell_type": "code",
   "execution_count": 12,
   "metadata": {},
   "outputs": [],
   "source": [
    "x = Input(shape=(784,))\n",
    "f1 = Dense(50, activation='relu')\n",
    "\n",
    "f21 = Dense(20, activation='relu')\n",
    "f22 = Dense(40, activation='relu')\n",
    "\n",
    "f31 = Dense(50, activation='relu')\n",
    "f32 = Dense(100, activation='relu')\n",
    "\n",
    "f4 = Dense(300,activation='relu')\n",
    "\n",
    "f5 = Dense(10, activation='softmax')"
   ]
  },
  {
   "cell_type": "code",
   "execution_count": 13,
   "metadata": {},
   "outputs": [],
   "source": [
    "h_1 = f1(x)\n",
    "\n",
    "h_21 = f21(h_1)\n",
    "h_31 = f31(h_21) \n",
    "\n",
    "h_22 = f22(h_1)\n",
    "h_32 = f32(h_22)\n",
    "\n",
    "h_4 = f4(concatenate([h_31,h_32]))\n",
    "\n",
    "y = f5(h_4)"
   ]
  },
  {
   "cell_type": "code",
   "execution_count": 14,
   "metadata": {},
   "outputs": [
    {
     "name": "stdout",
     "output_type": "stream",
     "text": [
      "____________________________________________________________________________________________________\n",
      "Layer (type)                     Output Shape          Param #     Connected to                     \n",
      "====================================================================================================\n",
      "input_1 (InputLayer)             (None, 784)           0                                            \n",
      "____________________________________________________________________________________________________\n",
      "dense_1 (Dense)                  (None, 50)            39250       input_1[0][0]                    \n",
      "____________________________________________________________________________________________________\n",
      "dense_2 (Dense)                  (None, 20)            1020        dense_1[0][0]                    \n",
      "____________________________________________________________________________________________________\n",
      "dense_3 (Dense)                  (None, 40)            2040        dense_1[0][0]                    \n",
      "____________________________________________________________________________________________________\n",
      "dense_4 (Dense)                  (None, 50)            1050        dense_2[0][0]                    \n",
      "____________________________________________________________________________________________________\n",
      "dense_5 (Dense)                  (None, 100)           4100        dense_3[0][0]                    \n",
      "____________________________________________________________________________________________________\n",
      "concatenate_1 (Concatenate)      (None, 150)           0           dense_4[0][0]                    \n",
      "                                                                   dense_5[0][0]                    \n",
      "____________________________________________________________________________________________________\n",
      "dense_6 (Dense)                  (None, 300)           45300       concatenate_1[0][0]              \n",
      "____________________________________________________________________________________________________\n",
      "dense_7 (Dense)                  (None, 10)            3010        dense_6[0][0]                    \n",
      "====================================================================================================\n",
      "Total params: 95,770\n",
      "Trainable params: 95,770\n",
      "Non-trainable params: 0\n",
      "____________________________________________________________________________________________________\n"
     ]
    }
   ],
   "source": [
    "model = Model(x, y)\n",
    "model.summary()"
   ]
  },
  {
   "cell_type": "code",
   "execution_count": 15,
   "metadata": {
    "scrolled": true
   },
   "outputs": [
    {
     "name": "stdout",
     "output_type": "stream",
     "text": [
      "Epoch 1/100\n",
      "60000/60000 [==============================] - 3s - loss: 0.0899 - acc: 0.1291     \n",
      "Epoch 2/100\n",
      "60000/60000 [==============================] - 3s - loss: 0.0894 - acc: 0.1580     \n",
      "Epoch 3/100\n",
      "60000/60000 [==============================] - 3s - loss: 0.0887 - acc: 0.1482     \n",
      "Epoch 4/100\n",
      "60000/60000 [==============================] - 3s - loss: 0.0876 - acc: 0.1505     \n",
      "Epoch 5/100\n",
      "60000/60000 [==============================] - 3s - loss: 0.0853 - acc: 0.2003     \n",
      "Epoch 6/100\n",
      "60000/60000 [==============================] - 3s - loss: 0.0819 - acc: 0.3109     \n",
      "Epoch 7/100\n",
      "60000/60000 [==============================] - 3s - loss: 0.0775 - acc: 0.3887     \n",
      "Epoch 8/100\n",
      "60000/60000 [==============================] - 3s - loss: 0.0718 - acc: 0.4547     \n",
      "Epoch 9/100\n",
      "60000/60000 [==============================] - 3s - loss: 0.0641 - acc: 0.5505     \n",
      "Epoch 10/100\n",
      "60000/60000 [==============================] - 3s - loss: 0.0542 - acc: 0.6639     \n",
      "Epoch 11/100\n",
      "60000/60000 [==============================] - 3s - loss: 0.0438 - acc: 0.7546     \n",
      "Epoch 12/100\n",
      "60000/60000 [==============================] - 3s - loss: 0.0341 - acc: 0.7997     \n",
      "Epoch 13/100\n",
      "60000/60000 [==============================] - 3s - loss: 0.0280 - acc: 0.8279     \n",
      "Epoch 14/100\n",
      "60000/60000 [==============================] - 3s - loss: 0.0243 - acc: 0.8483     \n",
      "Epoch 15/100\n",
      "60000/60000 [==============================] - 3s - loss: 0.0219 - acc: 0.8623     \n",
      "Epoch 16/100\n",
      "60000/60000 [==============================] - 3s - loss: 0.0202 - acc: 0.8717     \n",
      "Epoch 17/100\n",
      "60000/60000 [==============================] - 3s - loss: 0.0190 - acc: 0.8786     \n",
      "Epoch 18/100\n",
      "60000/60000 [==============================] - 3s - loss: 0.0180 - acc: 0.8845     \n",
      "Epoch 19/100\n",
      "60000/60000 [==============================] - 3s - loss: 0.0172 - acc: 0.8893     \n",
      "Epoch 20/100\n",
      "60000/60000 [==============================] - 3s - loss: 0.0166 - acc: 0.8932     \n",
      "Epoch 21/100\n",
      "60000/60000 [==============================] - 3s - loss: 0.0160 - acc: 0.8962     \n",
      "Epoch 22/100\n",
      "60000/60000 [==============================] - 3s - loss: 0.0156 - acc: 0.8992     \n",
      "Epoch 23/100\n",
      "60000/60000 [==============================] - 3s - loss: 0.0152 - acc: 0.9016     \n",
      "Epoch 24/100\n",
      "60000/60000 [==============================] - 3s - loss: 0.0148 - acc: 0.9039     \n",
      "Epoch 25/100\n",
      "60000/60000 [==============================] - 3s - loss: 0.0144 - acc: 0.9065     \n",
      "Epoch 26/100\n",
      "60000/60000 [==============================] - 3s - loss: 0.0141 - acc: 0.9081     \n",
      "Epoch 27/100\n",
      "60000/60000 [==============================] - 3s - loss: 0.0138 - acc: 0.9096     \n",
      "Epoch 28/100\n",
      "60000/60000 [==============================] - 3s - loss: 0.0136 - acc: 0.9116     \n",
      "Epoch 29/100\n",
      "60000/60000 [==============================] - 3s - loss: 0.0133 - acc: 0.9133     \n",
      "Epoch 30/100\n",
      "60000/60000 [==============================] - 3s - loss: 0.0131 - acc: 0.9145     \n",
      "Epoch 31/100\n",
      "60000/60000 [==============================] - 3s - loss: 0.0129 - acc: 0.9171     \n",
      "Epoch 32/100\n",
      "60000/60000 [==============================] - 3s - loss: 0.0127 - acc: 0.9186     \n",
      "Epoch 33/100\n",
      "60000/60000 [==============================] - 3s - loss: 0.0124 - acc: 0.9196     \n",
      "Epoch 34/100\n",
      "60000/60000 [==============================] - 3s - loss: 0.0123 - acc: 0.9206     \n",
      "Epoch 35/100\n",
      "60000/60000 [==============================] - 4s - loss: 0.0121 - acc: 0.9220     \n",
      "Epoch 36/100\n",
      "60000/60000 [==============================] - 4s - loss: 0.0119 - acc: 0.9232     \n",
      "Epoch 37/100\n",
      "60000/60000 [==============================] - 4s - loss: 0.0117 - acc: 0.9244     \n",
      "Epoch 38/100\n",
      "60000/60000 [==============================] - 3s - loss: 0.0116 - acc: 0.9257     \n",
      "Epoch 39/100\n",
      "60000/60000 [==============================] - 4s - loss: 0.0114 - acc: 0.9267     \n",
      "Epoch 40/100\n",
      "60000/60000 [==============================] - 4s - loss: 0.0113 - acc: 0.9275     \n",
      "Epoch 41/100\n",
      "60000/60000 [==============================] - 3s - loss: 0.0112 - acc: 0.9287     \n",
      "Epoch 42/100\n",
      "60000/60000 [==============================] - 3s - loss: 0.0110 - acc: 0.9298     \n",
      "Epoch 43/100\n",
      "60000/60000 [==============================] - 3s - loss: 0.0109 - acc: 0.9308     \n",
      "Epoch 44/100\n",
      "60000/60000 [==============================] - 3s - loss: 0.0108 - acc: 0.9316     \n",
      "Epoch 45/100\n",
      "60000/60000 [==============================] - 3s - loss: 0.0106 - acc: 0.9327     \n",
      "Epoch 46/100\n",
      "60000/60000 [==============================] - 3s - loss: 0.0105 - acc: 0.9336     \n",
      "Epoch 47/100\n",
      "60000/60000 [==============================] - 4s - loss: 0.0104 - acc: 0.9341     \n",
      "Epoch 48/100\n",
      "60000/60000 [==============================] - 3s - loss: 0.0103 - acc: 0.9351     \n",
      "Epoch 49/100\n",
      "60000/60000 [==============================] - 4s - loss: 0.0102 - acc: 0.9357     \n",
      "Epoch 50/100\n",
      "60000/60000 [==============================] - 4s - loss: 0.0101 - acc: 0.9365     \n",
      "Epoch 51/100\n",
      "60000/60000 [==============================] - 3s - loss: 0.0100 - acc: 0.9371     \n",
      "Epoch 52/100\n",
      "60000/60000 [==============================] - 3s - loss: 0.0099 - acc: 0.9376     \n",
      "Epoch 53/100\n",
      "60000/60000 [==============================] - 3s - loss: 0.0098 - acc: 0.9380     \n",
      "Epoch 54/100\n",
      "60000/60000 [==============================] - 3s - loss: 0.0097 - acc: 0.9387     \n",
      "Epoch 55/100\n",
      "60000/60000 [==============================] - 3s - loss: 0.0096 - acc: 0.9394     \n",
      "Epoch 56/100\n",
      "60000/60000 [==============================] - 3s - loss: 0.0095 - acc: 0.9403     \n",
      "Epoch 57/100\n",
      "60000/60000 [==============================] - 3s - loss: 0.0094 - acc: 0.9408     \n",
      "Epoch 58/100\n",
      "60000/60000 [==============================] - 3s - loss: 0.0093 - acc: 0.9412     \n",
      "Epoch 59/100\n",
      "60000/60000 [==============================] - 3s - loss: 0.0092 - acc: 0.9413     \n",
      "Epoch 60/100\n",
      "60000/60000 [==============================] - 3s - loss: 0.0092 - acc: 0.9422     \n",
      "Epoch 61/100\n",
      "60000/60000 [==============================] - 3s - loss: 0.0091 - acc: 0.9427     \n",
      "Epoch 62/100\n",
      "60000/60000 [==============================] - 3s - loss: 0.0090 - acc: 0.9432     \n",
      "Epoch 63/100\n",
      "60000/60000 [==============================] - 3s - loss: 0.0089 - acc: 0.9440     \n",
      "Epoch 64/100\n",
      "60000/60000 [==============================] - 3s - loss: 0.0089 - acc: 0.9440     \n",
      "Epoch 65/100\n",
      "60000/60000 [==============================] - 3s - loss: 0.0088 - acc: 0.9444     \n",
      "Epoch 66/100\n",
      "60000/60000 [==============================] - 3s - loss: 0.0087 - acc: 0.9457     \n",
      "Epoch 67/100\n",
      "60000/60000 [==============================] - 3s - loss: 0.0087 - acc: 0.9458     \n",
      "Epoch 68/100\n",
      "60000/60000 [==============================] - 4s - loss: 0.0086 - acc: 0.9462     \n",
      "Epoch 69/100\n",
      "60000/60000 [==============================] - 3s - loss: 0.0085 - acc: 0.9463     \n",
      "Epoch 70/100\n",
      "60000/60000 [==============================] - 4s - loss: 0.0084 - acc: 0.9471     \n",
      "Epoch 71/100\n",
      "60000/60000 [==============================] - 4s - loss: 0.0084 - acc: 0.9478     \n",
      "Epoch 72/100\n",
      "60000/60000 [==============================] - 3s - loss: 0.0083 - acc: 0.9475     \n",
      "Epoch 73/100\n",
      "60000/60000 [==============================] - 3s - loss: 0.0083 - acc: 0.9484     \n",
      "Epoch 74/100\n",
      "60000/60000 [==============================] - 3s - loss: 0.0082 - acc: 0.9489     \n",
      "Epoch 75/100\n",
      "60000/60000 [==============================] - 3s - loss: 0.0081 - acc: 0.9492     \n",
      "Epoch 76/100\n",
      "60000/60000 [==============================] - 3s - loss: 0.0081 - acc: 0.9493     \n",
      "Epoch 77/100\n",
      "60000/60000 [==============================] - 3s - loss: 0.0080 - acc: 0.9500     \n",
      "Epoch 78/100\n",
      "60000/60000 [==============================] - 3s - loss: 0.0080 - acc: 0.9504     \n",
      "Epoch 79/100\n",
      "60000/60000 [==============================] - 3s - loss: 0.0079 - acc: 0.9506     \n",
      "Epoch 80/100\n",
      "60000/60000 [==============================] - 3s - loss: 0.0078 - acc: 0.9512     \n",
      "Epoch 81/100\n",
      "60000/60000 [==============================] - 3s - loss: 0.0078 - acc: 0.9511     \n",
      "Epoch 82/100\n",
      "60000/60000 [==============================] - 3s - loss: 0.0078 - acc: 0.9515     \n",
      "Epoch 83/100\n",
      "60000/60000 [==============================] - 3s - loss: 0.0077 - acc: 0.9521     \n",
      "Epoch 84/100\n",
      "60000/60000 [==============================] - 4s - loss: 0.0076 - acc: 0.9520     \n",
      "Epoch 85/100\n"
     ]
    },
    {
     "name": "stdout",
     "output_type": "stream",
     "text": [
      "60000/60000 [==============================] - 3s - loss: 0.0076 - acc: 0.9526     \n",
      "Epoch 86/100\n",
      "60000/60000 [==============================] - 3s - loss: 0.0075 - acc: 0.9530     \n",
      "Epoch 87/100\n",
      "60000/60000 [==============================] - 3s - loss: 0.0075 - acc: 0.9535     \n",
      "Epoch 88/100\n",
      "60000/60000 [==============================] - 3s - loss: 0.0074 - acc: 0.9536     \n",
      "Epoch 89/100\n",
      "60000/60000 [==============================] - 3s - loss: 0.0074 - acc: 0.9540     \n",
      "Epoch 90/100\n",
      "60000/60000 [==============================] - 3s - loss: 0.0073 - acc: 0.9546     \n",
      "Epoch 91/100\n",
      "60000/60000 [==============================] - 3s - loss: 0.0073 - acc: 0.9547     \n",
      "Epoch 92/100\n",
      "60000/60000 [==============================] - 4s - loss: 0.0073 - acc: 0.9550     \n",
      "Epoch 93/100\n",
      "60000/60000 [==============================] - 3s - loss: 0.0072 - acc: 0.9554     \n",
      "Epoch 94/100\n",
      "60000/60000 [==============================] - 3s - loss: 0.0072 - acc: 0.9558     \n",
      "Epoch 95/100\n",
      "60000/60000 [==============================] - 3s - loss: 0.0071 - acc: 0.9560     \n",
      "Epoch 96/100\n",
      "60000/60000 [==============================] - 3s - loss: 0.0071 - acc: 0.9563     \n",
      "Epoch 97/100\n",
      "60000/60000 [==============================] - 3s - loss: 0.0070 - acc: 0.9568     \n",
      "Epoch 98/100\n",
      "60000/60000 [==============================] - 3s - loss: 0.0070 - acc: 0.9568     \n",
      "Epoch 99/100\n",
      "60000/60000 [==============================] - 3s - loss: 0.0069 - acc: 0.9572     \n",
      "Epoch 100/100\n",
      "60000/60000 [==============================] - 3s - loss: 0.0069 - acc: 0.9575     \n"
     ]
    }
   ],
   "source": [
    "model.compile(loss='mse', optimizer=SGD(lr=0.3), metrics=['accuracy'])\n",
    "model_info = model.fit(x_train, y_train, batch_size=1000, epochs=100,shuffle=True)"
   ]
  },
  {
   "cell_type": "markdown",
   "metadata": {},
   "source": [
    "# 分析結果"
   ]
  },
  {
   "cell_type": "code",
   "execution_count": 16,
   "metadata": {},
   "outputs": [
    {
     "name": "stdout",
     "output_type": "stream",
     "text": [
      " 9856/10000 [============================>.] - ETA: 0smodel:\n",
      "loss: 0.007359472229360836\n",
      "正確率: 0.9501\n"
     ]
    }
   ],
   "source": [
    "score = model.evaluate(x_test, y_test)\n",
    "print('model:')\n",
    "print('loss:', score[0])\n",
    "print('正確率:', score[1])"
   ]
  },
  {
   "cell_type": "code",
   "execution_count": 17,
   "metadata": {},
   "outputs": [
    {
     "data": {
      "text/plain": [
       "<function matplotlib.pyplot.show(*args, **kw)>"
      ]
     },
     "execution_count": 17,
     "metadata": {},
     "output_type": "execute_result"
    },
    {
     "data": {
      "image/png": "[encoded data removed]",
      "text/plain": [
       "<Figure size 432x288 with 1 Axes>"
      ]
     },
     "metadata": {
      "needs_background": "light"
     },
     "output_type": "display_data"
    }
   ],
   "source": [
    "plt.plot(model_info.history['acc'],c = 'b')\n",
    "plt.title('Model accuracy')\n",
    "plt.ylabel('accuracy')\n",
    "plt.xlabel('epochs')\n",
    "plt.legend([\"accuracy\"],loc = \"best\")\n",
    "plt.show"
   ]
  },
  {
   "cell_type": "code",
   "execution_count": 18,
   "metadata": {},
   "outputs": [
    {
     "data": {
      "image/png": "[encoded data removed]",
      "text/plain": [
       "<Figure size 432x288 with 1 Axes>"
      ]
     },
     "metadata": {
      "needs_background": "light"
     },
     "output_type": "display_data"
    }
   ],
   "source": [
    "plt.plot(model_info.history['loss'], label='Loss', c=\"r\")\n",
    "\n",
    "plt.title(\"Model's Loss\")\n",
    "plt.ylabel(\"accuracy\")\n",
    "plt.xlabel(\"epochs\")\n",
    "plt.legend(loc=\"best\")\n",
    "plt.show()"
   ]
  },
  {
   "cell_type": "code",
   "execution_count": null,
   "metadata": {},
   "outputs": [],
   "source": []
  }
 ],
 "metadata": {
  "kernelspec": {
   "display_name": "Python 3",
   "language": "python",
   "name": "python3"
  },
  "language_info": {
   "codemirror_mode": {
    "name": "ipython",
    "version": 3
   },
   "file_extension": ".py",
   "mimetype": "text/x-python",
   "name": "python",
   "nbconvert_exporter": "python",
   "pygments_lexer": "ipython3",
   "version": "3.6.8"
  }
 },
 "nbformat": 4,
 "nbformat_minor": 2
}
