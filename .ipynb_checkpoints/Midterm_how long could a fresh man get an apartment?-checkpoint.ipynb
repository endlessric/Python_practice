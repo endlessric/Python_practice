{
 "cells": [
  {
   "cell_type": "code",
   "execution_count": 382,
   "metadata": {},
   "outputs": [],
   "source": [
    "%matplotlib inline\n",
    "import numpy as np\n",
    "import matplotlib.pyplot as plt\n",
    "import pandas as pd\n",
    "from sklearn.linear_model import LinearRegression \n",
    "from ipywidgets import interact"
   ]
  },
  {
   "cell_type": "code",
   "execution_count": 139,
   "metadata": {},
   "outputs": [],
   "source": [
    "df0_Taipei = pd.read_excel('/home/endlessric/Python_work/Taipei.xls')\n",
    "df0_New_Taipei = pd.read_excel('/home/endlessric/Python_work/New_Taipei.xls')\n",
    "df0_Keelung = pd.read_excel('/home/endlessric/Python_work/Keelung.xls')\n",
    "df0_Taoyuan = pd.read_excel('/home/endlessric/Python_work/Taoyuan.xls')\n",
    "df0_Yilan = pd.read_excel('/home/endlessric/Python_work/Yilan.xls')\n"
   ]
  },
  {
   "cell_type": "markdown",
   "metadata": {},
   "source": [
    "# 整理資料格式"
   ]
  },
  {
   "cell_type": "code",
   "execution_count": 140,
   "metadata": {
    "scrolled": true
   },
   "outputs": [],
   "source": [
    "col_name = [\"時間\",\"買賣契約價格平均總價\"]\n",
    "df0_Taipei.columns = col_name\n",
    "df0_New_Taipei.columns = col_name\n",
    "df0_Keelung.columns = col_name\n",
    "df0_Taoyuan.columns = col_name\n",
    "df0_Yilan.columns = col_name\n"
   ]
  },
  {
   "cell_type": "code",
   "execution_count": 141,
   "metadata": {},
   "outputs": [],
   "source": [
    "df_Taipei = df0_Taipei.loc[3:]\n",
    "df_New_Taipei = df0_New_Taipei.loc[3:]\n",
    "df_Keelung = df0_Keelung.loc[3:]\n",
    "df_Taoyuan = df0_Taoyuan.loc[3:]\n",
    "df_Yilan = df0_Yilan.loc[3:]"
   ]
  },
  {
   "cell_type": "markdown",
   "metadata": {},
   "source": [
    "# 整理過後的資料,在Data frame上呈現"
   ]
  },
  {
   "cell_type": "code",
   "execution_count": 290,
   "metadata": {
    "scrolled": true
   },
   "outputs": [
    {
     "data": {
      "text/html": [
       "<div>\n",
       "<style scoped>\n",
       "    .dataframe tbody tr th:only-of-type {\n",
       "        vertical-align: middle;\n",
       "    }\n",
       "\n",
       "    .dataframe tbody tr th {\n",
       "        vertical-align: top;\n",
       "    }\n",
       "\n",
       "    .dataframe thead th {\n",
       "        text-align: right;\n",
       "    }\n",
       "</style>\n",
       "<table border=\"1\" class=\"dataframe\">\n",
       "  <thead>\n",
       "    <tr style=\"text-align: right;\">\n",
       "      <th></th>\n",
       "      <th>時間</th>\n",
       "      <th>買賣契約價格平均總價</th>\n",
       "    </tr>\n",
       "  </thead>\n",
       "  <tbody>\n",
       "    <tr>\n",
       "      <th>3</th>\n",
       "      <td>107Q4</td>\n",
       "      <td>1403.3</td>\n",
       "    </tr>\n",
       "    <tr>\n",
       "      <th>4</th>\n",
       "      <td>107Q3</td>\n",
       "      <td>1442.5</td>\n",
       "    </tr>\n",
       "    <tr>\n",
       "      <th>5</th>\n",
       "      <td>107Q2</td>\n",
       "      <td>1424.1</td>\n",
       "    </tr>\n",
       "    <tr>\n",
       "      <th>6</th>\n",
       "      <td>107Q1</td>\n",
       "      <td>1441.2</td>\n",
       "    </tr>\n",
       "    <tr>\n",
       "      <th>7</th>\n",
       "      <td>106Q4</td>\n",
       "      <td>1452.7</td>\n",
       "    </tr>\n",
       "  </tbody>\n",
       "</table>\n",
       "</div>"
      ],
      "text/plain": [
       "      時間 買賣契約價格平均總價\n",
       "3  107Q4     1403.3\n",
       "4  107Q3     1442.5\n",
       "5  107Q2     1424.1\n",
       "6  107Q1     1441.2\n",
       "7  106Q4     1452.7"
      ]
     },
     "execution_count": 290,
     "metadata": {},
     "output_type": "execute_result"
    }
   ],
   "source": [
    "df_Taipei.head()"
   ]
  },
  {
   "cell_type": "markdown",
   "metadata": {},
   "source": [
    "# 發現較早之前得數據差異值比較大(100年初),因此只擷取近20筆資料\n"
   ]
  },
  {
   "cell_type": "code",
   "execution_count": 291,
   "metadata": {},
   "outputs": [],
   "source": [
    "df_Taipei = df0_Taipei.loc[3:22]\n",
    "df_New_Taipei = df0_New_Taipei.loc[3:22]\n",
    "df_Taoyuan = df0_Taoyuan.loc[3:22]\n",
    "df_Keelung = df0_Keelung.loc[3:22]\n",
    "df_Yilan = df0_Yilan.loc[3:22]"
   ]
  },
  {
   "cell_type": "code",
   "execution_count": 292,
   "metadata": {
    "scrolled": true
   },
   "outputs": [
    {
     "data": {
      "text/plain": [
       "False"
      ]
     },
     "execution_count": 292,
     "metadata": {},
     "output_type": "execute_result"
    }
   ],
   "source": [
    "#檢查是否有沒值的地方\n",
    "df_Taipei.isnull().values.any()\n",
    "df_New_Taipei.isnull().values.any()\n",
    "df_Keelung.isnull().values.any()\n",
    "df_Taoyuan.isnull().values.any()\n",
    "df_Yilan.isnull().values.any()"
   ]
  },
  {
   "cell_type": "code",
   "execution_count": 151,
   "metadata": {
    "scrolled": false
   },
   "outputs": [
    {
     "data": {
      "text/plain": [
       "<matplotlib.axes._subplots.AxesSubplot at 0x7fcee56fd5f8>"
      ]
     },
     "execution_count": 151,
     "metadata": {},
     "output_type": "execute_result"
    },
    {
     "data": {
      "image/png": "[encoded data removed]",
      "text/plain": [
       "<Figure size 432x288 with 1 Axes>"
      ]
     },
     "metadata": {},
     "output_type": "display_data"
    }
   ],
   "source": [
    "df_Taipei.買賣契約價格平均總價.plot()"
   ]
  },
  {
   "cell_type": "code",
   "execution_count": 405,
   "metadata": {},
   "outputs": [],
   "source": [
    "def get_model(model_name,df_name,place):\n",
    "    model_name = LinearRegression()\n",
    "    y = df_name[[\"買賣契約價格平均總價\"]]\n",
    "    #Date\n",
    "    Date = 21-np.arange(1,21)\n",
    "    Date = Date.reshape(len(Date), 1)\n",
    "    \n",
    "    model_name.fit(Date,y)\n",
    "    Y_pred = model_name.predict(Date)\n",
    "    value = model_name.predict(len(Date)+1)\n",
    "    plt.scatter(Date,y)\n",
    "    plt.plot(Date,Y_pred,'r',linewidth=3)\n",
    "    plt.scatter(len(Date)+1,value,c = 'green')\n",
    "    return value\n"
   ]
  },
  {
   "cell_type": "code",
   "execution_count": 422,
   "metadata": {},
   "outputs": [],
   "source": [
    "def f(x):\n",
    "    print(x)\n",
    "    return x\n"
   ]
  },
  {
   "cell_type": "code",
   "execution_count": 427,
   "metadata": {
    "scrolled": true
   },
   "outputs": [
    {
     "data": {
      "application/vnd.jupyter.widget-view+json": {
       "model_id": "2381de1c778f4794b547620513575257",
       "version_major": 2,
       "version_minor": 0
      },
      "text/plain": [
       "interactive(children=(Dropdown(description='x', options=('台北', '新北', '桃園', '基隆', '宜蘭'), value='台北'), Output())…"
      ]
     },
     "metadata": {},
     "output_type": "display_data"
    },
    {
     "data": {
      "text/plain": [
       "<function __main__.f(x)>"
      ]
     },
     "execution_count": 427,
     "metadata": {},
     "output_type": "execute_result"
    }
   ],
   "source": [
    "interact(f, x=['台北', '新北', '桃園','基隆','宜蘭'])"
   ]
  },
  {
   "cell_type": "code",
   "execution_count": null,
   "metadata": {},
   "outputs": [],
   "source": [
    "interact(f, x={'台北':1, '台中':2, '高雄':3})"
   ]
  },
  {
   "cell_type": "code",
   "execution_count": 430,
   "metadata": {},
   "outputs": [
    {
     "data": {
      "application/vnd.jupyter.widget-view+json": {
       "model_id": "1ec7f943354041379ca4a88bb0fd2fc5",
       "version_major": 2,
       "version_minor": 0
      },
      "text/plain": [
       "interactive(children=(Dropdown(description='x', options={'台北': 1, '新北': 2, '桃園': 3, '基隆': 4, '宜蘭': 5}, value=1…"
      ]
     },
     "metadata": {},
     "output_type": "display_data"
    },
    {
     "data": {
      "text/plain": [
       "<function __main__.f(x)>"
      ]
     },
     "execution_count": 430,
     "metadata": {},
     "output_type": "execute_result"
    }
   ],
   "source": [
    "interact(f, x={'台北': 1, '新北':2, '桃園':3,'基隆':4,'宜蘭':5})"
   ]
  },
  {
   "cell_type": "code",
   "execution_count": 438,
   "metadata": {},
   "outputs": [
    {
     "data": {
      "application/vnd.jupyter.widget-view+json": {
       "model_id": "c8e5367e2cda4c4dafa8e0c4340cf5f6",
       "version_major": 2,
       "version_minor": 0
      },
      "text/plain": [
       "interactive(children=(IntSlider(value=3, description='x', max=9, min=-3), Output()), _dom_classes=('widget-int…"
      ]
     },
     "metadata": {},
     "output_type": "display_data"
    }
   ],
   "source": [
    "z = interact(f, x=3)"
   ]
  },
  {
   "cell_type": "code",
   "execution_count": 433,
   "metadata": {},
   "outputs": [
    {
     "name": "stdout",
     "output_type": "stream",
     "text": [
      "Current price =  1376\n"
     ]
    }
   ],
   "source": [
    "if x == 1:\n",
    "    price = get_model(model_Taipei,df_Taipei,\"Taipei\")\n",
    "elif x == 2:\n",
    "    price = get_model(model_New_Taipei,df_New_Taipei,\"New_Taipei\")\n",
    "elif place == 3:\n",
    "    price = get_model(model_Taoyuan,df_Taoyuan,\"Taoyuan\")\n",
    "elif place == 4:\n",
    "    price = get_model(model_Keelung,df_Keelung,\"Keelung\")\n",
    "elif place == 5:\n",
    "    price = get_model(model_Yilan,df_Yilan,\"Yilan\")\n",
    "print(\"Current price = \",int(price))\n",
    "\n"
   ]
  },
  {
   "cell_type": "code",
   "execution_count": 434,
   "metadata": {},
   "outputs": [
    {
     "name": "stdout",
     "output_type": "stream",
     "text": [
      "Current price =  1376\n"
     ]
    },
    {
     "data": {
      "image/png": "[encoded data removed]",
      "text/plain": [
       "<Figure size 432x288 with 1 Axes>"
      ]
     },
     "metadata": {},
     "output_type": "display_data"
    }
   ],
   "source": [
    "cmd = 3\n",
    "if cmd == 1:\n",
    "    price = get_model(model_Taipei,df_Taipei,\"Taipei\")\n",
    "elif cmd == 2:\n",
    "    price = get_model(model_New_Taipei,df_New_Taipei,\"New_Taipei\")\n",
    "elif cmd == 3:\n",
    "    price = get_model(model_Taoyuan,df_Taoyuan,\"Taoyuan\")\n",
    "elif cmd == 4:\n",
    "    price = get_model(model_Keelung,df_Keelung,\"Keelung\")\n",
    "elif cmd == 5:\n",
    "    price = get_model(model_Yilan,df_Yilan,\"Yilan\")\n",
    "    \n",
    "print(\"Current price = \",int(price))\n",
    "\n"
   ]
  },
  {
   "cell_type": "code",
   "execution_count": 370,
   "metadata": {
    "scrolled": false
   },
   "outputs": [
    {
     "name": "stdout",
     "output_type": "stream",
     "text": [
      "Current price =  1376\n"
     ]
    },
    {
     "data": {
      "image/png": "[encoded data removed]",
      "text/plain": [
       "<Figure size 432x288 with 1 Axes>"
      ]
     },
     "metadata": {},
     "output_type": "display_data"
    }
   ],
   "source": [
    "price = get_model(model_Taipei,df_Taipei,\"Taipei\")\n",
    "print(\"Current price = \",int(price))"
   ]
  },
  {
   "cell_type": "markdown",
   "metadata": {},
   "source": [
    "# 使用LinearRegression去fit data"
   ]
  },
  {
   "cell_type": "code",
   "execution_count": 293,
   "metadata": {},
   "outputs": [],
   "source": [
    "model_Taipei = LinearRegression()\n",
    "model_New_Taipei = LinearRegression()\n",
    "model_Taoyuan = LinearRegression()\n",
    "model_Keelung = LinearRegression()\n",
    "model_Yilan = LinearRegression()"
   ]
  },
  {
   "cell_type": "code",
   "execution_count": 294,
   "metadata": {},
   "outputs": [],
   "source": [
    "y_Taipei = df_Taipei[[\"買賣契約價格平均總價\"]]\n",
    "y_New_Taipei = df_New_Taipei[[\"買賣契約價格平均總價\"]]\n",
    "y_Taoyuan = df_Taoyuan[[\"買賣契約價格平均總價\"]]\n",
    "y_Keelung = df_Keelung[[\"買賣契約價格平均總價\"]]\n",
    "y_Yilan = df_Yilan[[\"買賣契約價格平均總價\"]]"
   ]
  },
  {
   "cell_type": "code",
   "execution_count": 295,
   "metadata": {},
   "outputs": [],
   "source": [
    "Date = 21-np.arange(1,21)\n",
    "Date = x_Taipei.reshape(len(Date), 1)"
   ]
  },
  {
   "cell_type": "code",
   "execution_count": 305,
   "metadata": {
    "scrolled": true
   },
   "outputs": [
    {
     "data": {
      "text/plain": [
       "LinearRegression(copy_X=True, fit_intercept=True, n_jobs=1, normalize=False)"
      ]
     },
     "execution_count": 305,
     "metadata": {},
     "output_type": "execute_result"
    }
   ],
   "source": [
    "model_Taipei.fit(Date,y_Taipei)\n",
    "model_New_Taipei.fit(Date,y_Taipei)\n",
    "model_Taoyuan.fit(Date,y_Taipei)\n",
    "model_Keelung.fit(Date,y_Taipei)\n",
    "model_Yilan.fit(Date,y_Taipei)"
   ]
  },
  {
   "cell_type": "code",
   "execution_count": 306,
   "metadata": {},
   "outputs": [],
   "source": [
    "Y_pred_Taipei = model_Taipei.predict(Date)\n",
    "Y_pred_New_Taipei = model_New_Taipei.predict(Date)\n",
    "Y_pred_Taoyuan = model_Taoyuan.predict(Date)\n",
    "Y_pred_Keelung = model_Keelung.predict(Date)\n",
    "Y_pred_Yilan = model_Yilan.predict(Date)"
   ]
  },
  {
   "cell_type": "code",
   "execution_count": 302,
   "metadata": {},
   "outputs": [],
   "source": [
    "value = model_Taipei.predict(len(Date))"
   ]
  },
  {
   "cell_type": "code",
   "execution_count": 304,
   "metadata": {
    "scrolled": true
   },
   "outputs": [
    {
     "data": {
      "text/plain": [
       "<matplotlib.collections.PathCollection at 0x7fced8f43780>"
      ]
     },
     "execution_count": 304,
     "metadata": {},
     "output_type": "execute_result"
    },
    {
     "data": {
      "image/png": "[encoded data removed]",
      "text/plain": [
       "<Figure size 432x288 with 1 Axes>"
      ]
     },
     "metadata": {},
     "output_type": "display_data"
    }
   ],
   "source": [
    "plt.scatter(x_Taipei,y_Taipei)\n",
    "plt.plot(x_Taipei,Y_pred,'r',linewidth=3)\n",
    "plt.scatter(len(Date),value,c = 'green')"
   ]
  },
  {
   "cell_type": "code",
   "execution_count": null,
   "metadata": {},
   "outputs": [],
   "source": []
  }
 ],
 "metadata": {
  "kernelspec": {
   "display_name": "Python 3",
   "language": "python",
   "name": "python3"
  },
  "language_info": {
   "codemirror_mode": {
    "name": "ipython",
    "version": 3
   },
   "file_extension": ".py",
   "mimetype": "text/x-python",
   "name": "python",
   "nbconvert_exporter": "python",
   "pygments_lexer": "ipython3",
   "version": "3.6.5"
  }
 },
 "nbformat": 4,
 "nbformat_minor": 2
}
